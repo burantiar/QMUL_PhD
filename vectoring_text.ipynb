{
 "cells": [
  {
   "cell_type": "code",
   "execution_count": 1,
   "metadata": {
    "colab": {
     "base_uri": "https://localhost:8080/",
     "height": 37
    },
    "executionInfo": {
     "elapsed": 887,
     "status": "ok",
     "timestamp": 1614428999811,
     "user": {
      "displayName": "N. E.",
      "photoUrl": "https://lh3.googleusercontent.com/a-/AOh14Giu1R9ux2DYhWOwxiNijmyUYXnfk9yJqUCLNyq_vA=s64",
      "userId": "01997527614154494135"
     },
     "user_tz": 0
    },
    "id": "sFppbs7pdS4x",
    "outputId": "51544d49-564b-4c60-a2a6-a3fc8ab8ef19"
   },
   "outputs": [
    {
     "name": "stderr",
     "output_type": "stream",
     "text": [
      "Using TensorFlow backend.\n"
     ]
    },
    {
     "data": {
      "text/plain": [
       "'2.3.1'"
      ]
     },
     "execution_count": 1,
     "metadata": {},
     "output_type": "execute_result"
    }
   ],
   "source": [
    "import keras\n",
    "import nltk\n",
    "import numpy as np\n",
    "import matplotlib.pyplot as plt\n",
    "%matplotlib inline\n",
    "\n",
    "keras.__version__"
   ]
  },
  {
   "cell_type": "markdown",
   "metadata": {
    "id": "Zl6jSTm4dS5A"
   },
   "source": [
    "# Text processing"
   ]
  },
  {
   "cell_type": "markdown",
   "metadata": {
    "id": "PleWMvTAdS5B"
   },
   "source": [
    "First, we will look at simple operations with text: tokenisation, lemmatisation etc. We need them to make all words look similar to the machine.\n",
    "\n",
    "- Cleaning texts (regular expressions or one of the following)\n",
    "- Tokenization is to break text into units (words and sentences) : \"I have a dog.\" --> \"I\", \"have\", \"a\", \"dog\", \".\"\n",
    "- Stemming and lemmatization : reducing words into their common stem or lemma. \"has\" -> \"have\", \"dogs\" -> \"dog” etc.\n",
    "- Removal of stop words ( common words such as “a” and “the” that appear in most documents but often provide no significant meaning)."
   ]
  },
  {
   "cell_type": "code",
   "execution_count": 2,
   "metadata": {
    "executionInfo": {
     "elapsed": 1137,
     "status": "ok",
     "timestamp": 1614429002583,
     "user": {
      "displayName": "N. E.",
      "photoUrl": "https://lh3.googleusercontent.com/a-/AOh14Giu1R9ux2DYhWOwxiNijmyUYXnfk9yJqUCLNyq_vA=s64",
      "userId": "01997527614154494135"
     },
     "user_tz": 0
    },
    "id": "lSNfw4OzdS5C"
   },
   "outputs": [],
   "source": [
    "text = \"This is Natalia's class, isn't it?\""
   ]
  },
  {
   "cell_type": "markdown",
   "metadata": {
    "id": "cuP9Z9tGdS5D"
   },
   "source": [
    "You can use the following tokenizers to work with your text, depending on the task in hand:\n",
    "- WhitespaceTokenizer\n",
    "- TreebankWordTokenizer\n",
    "- WordPunctTokenizer"
   ]
  },
  {
   "cell_type": "code",
   "execution_count": 3,
   "metadata": {
    "colab": {
     "base_uri": "https://localhost:8080/"
    },
    "executionInfo": {
     "elapsed": 1001,
     "status": "ok",
     "timestamp": 1614429003007,
     "user": {
      "displayName": "N. E.",
      "photoUrl": "https://lh3.googleusercontent.com/a-/AOh14Giu1R9ux2DYhWOwxiNijmyUYXnfk9yJqUCLNyq_vA=s64",
      "userId": "01997527614154494135"
     },
     "user_tz": 0
    },
    "id": "FjI7ydjddS5D",
    "outputId": "22bf9ff3-62f2-4749-f650-2c5bad43c9cf"
   },
   "outputs": [
    {
     "data": {
      "text/plain": [
       "['This', 'is', \"Natalia's\", 'class,', \"isn't\", 'it?']"
      ]
     },
     "execution_count": 3,
     "metadata": {},
     "output_type": "execute_result"
    }
   ],
   "source": [
    "#Tokenize a string on whitespace (space, tab, newline). You can use the string split() method instead.\n",
    "tokenizer = nltk.tokenize.WhitespaceTokenizer()\n",
    "tokenizer.tokenize(text)"
   ]
  },
  {
   "cell_type": "markdown",
   "metadata": {
    "id": "BzsEtpemdS5D"
   },
   "source": [
    "The Treebank tokenizer uses regular expressions to tokenize text as in Penn Treebank. \n",
    "This is the method that is invoked by word_tokenize(). \n",
    "It assumes that the text has already been segmented into sentences, e.g. using sent_tokenize().\n",
    "\n",
    "This tokenizer performs the following steps:\n",
    "- split standard contractions, e.g. don't -> do n't and they'll -> they 'll\n",
    "- treat most punctuation characters as separate tokens\n",
    "- split off commas and single quotes, when followed by whitespace\n",
    "- separate periods that appear at the end of line"
   ]
  },
  {
   "cell_type": "code",
   "execution_count": 4,
   "metadata": {
    "colab": {
     "base_uri": "https://localhost:8080/"
    },
    "executionInfo": {
     "elapsed": 557,
     "status": "ok",
     "timestamp": 1614429003008,
     "user": {
      "displayName": "N. E.",
      "photoUrl": "https://lh3.googleusercontent.com/a-/AOh14Giu1R9ux2DYhWOwxiNijmyUYXnfk9yJqUCLNyq_vA=s64",
      "userId": "01997527614154494135"
     },
     "user_tz": 0
    },
    "id": "N_w6nYQidS5E",
    "outputId": "74a8cb04-baba-42d4-8a69-5733eb521bc1"
   },
   "outputs": [
    {
     "data": {
      "text/plain": [
       "['This', 'is', 'Natalia', \"'s\", 'class', ',', 'is', \"n't\", 'it', '?']"
      ]
     },
     "execution_count": 4,
     "metadata": {},
     "output_type": "execute_result"
    }
   ],
   "source": [
    "tokenizer = nltk.tokenize.TreebankWordTokenizer()\n",
    "tokenizer.tokenize(text)"
   ]
  },
  {
   "cell_type": "code",
   "execution_count": 5,
   "metadata": {
    "colab": {
     "base_uri": "https://localhost:8080/"
    },
    "executionInfo": {
     "elapsed": 703,
     "status": "ok",
     "timestamp": 1614429003384,
     "user": {
      "displayName": "N. E.",
      "photoUrl": "https://lh3.googleusercontent.com/a-/AOh14Giu1R9ux2DYhWOwxiNijmyUYXnfk9yJqUCLNyq_vA=s64",
      "userId": "01997527614154494135"
     },
     "user_tz": 0
    },
    "id": "B0RulHwSdS5E",
    "outputId": "181f9060-308b-4a7f-de1a-3f2412a970f5"
   },
   "outputs": [
    {
     "data": {
      "text/plain": [
       "['This', 'is', 'Natalia', \"'\", 's', 'class', ',', 'isn', \"'\", 't', 'it', '?']"
      ]
     },
     "execution_count": 5,
     "metadata": {},
     "output_type": "execute_result"
    }
   ],
   "source": [
    "# Tokenize a text into a sequence of alphabetic and non-alphabetic characters, using the regexp \\w+|[^\\w\\s]+.\n",
    "tokenizer = nltk.tokenize.WordPunctTokenizer()\n",
    "tokenizer.tokenize(text)"
   ]
  },
  {
   "cell_type": "markdown",
   "metadata": {
    "id": "C08tg3wZdS5F"
   },
   "source": [
    "Lemmatization and stemming: used for extracting lemma and stem of words\n",
    "\n"
   ]
  },
  {
   "cell_type": "code",
   "execution_count": 6,
   "metadata": {
    "colab": {
     "base_uri": "https://localhost:8080/"
    },
    "executionInfo": {
     "elapsed": 572,
     "status": "ok",
     "timestamp": 1614429003733,
     "user": {
      "displayName": "N. E.",
      "photoUrl": "https://lh3.googleusercontent.com/a-/AOh14Giu1R9ux2DYhWOwxiNijmyUYXnfk9yJqUCLNyq_vA=s64",
      "userId": "01997527614154494135"
     },
     "user_tz": 0
    },
    "id": "je944dpIdS5F",
    "outputId": "1457c512-446c-4581-e291-d9d2738db73a"
   },
   "outputs": [
    {
     "name": "stdout",
     "output_type": "stream",
     "text": [
      "['feet', 'wolves', 'cats', 'talked']\n"
     ]
    }
   ],
   "source": [
    "text = \"feet wolves cats talked\"\n",
    "tokenizer = nltk.tokenize.TreebankWordTokenizer()\n",
    "tokens = tokenizer.tokenize(text)\n",
    "print(tokens)"
   ]
  },
  {
   "cell_type": "code",
   "execution_count": 7,
   "metadata": {
    "colab": {
     "base_uri": "https://localhost:8080/",
     "height": 37
    },
    "executionInfo": {
     "elapsed": 751,
     "status": "ok",
     "timestamp": 1614429004066,
     "user": {
      "displayName": "N. E.",
      "photoUrl": "https://lh3.googleusercontent.com/a-/AOh14Giu1R9ux2DYhWOwxiNijmyUYXnfk9yJqUCLNyq_vA=s64",
      "userId": "01997527614154494135"
     },
     "user_tz": 0
    },
    "id": "ZKYOq726dS5G",
    "outputId": "3bf1a6d9-569f-43f5-ce53-09d1afcdc616"
   },
   "outputs": [
    {
     "data": {
      "text/plain": [
       "'feet wolv cat talk'"
      ]
     },
     "execution_count": 7,
     "metadata": {},
     "output_type": "execute_result"
    }
   ],
   "source": [
    "stemmer = nltk.stem.PorterStemmer()\n",
    "\" \".join(stemmer.stem(token) for token in tokens)"
   ]
  },
  {
   "cell_type": "markdown",
   "metadata": {
    "id": "Jy_1QdB4dS5G"
   },
   "source": [
    "# TFIDF\n",
    "\n",
    "In information retrieval, tf–idf or TFIDF, short for term **frequency–inverse document frequency**, is a numerical statistic that is intended to reflect how important a word is to a document in a collection or corpus.\n",
    "\n",
    "It is often used as a weighting factor in searches of information retrieval, text mining, and user modeling. The tf–idf value increases proportionally to the number of times a word appears in the document and is offset by the number of documents in the corpus that contain the word, which helps to adjust for the fact that some words appear more frequently in general. tf–idf is one of the most popular term-weighting schemes.\n",
    "\n",
    "\n",
    "In a large text corpus, some words will be very present (e.g. “the”, “a”, “is” in English) hence carrying very little meaningful information about the actual contents of the document. If we were to feed the direct count data directly to a classifier those very frequent terms would shadow the frequencies of rarer yet more interesting terms.\n",
    "\n",
    "In order to re-weight the count features into floating point values suitable for usage by a classifier it is very common to use the tf–idf transform. Read more [here](https://scikit-learn.org/stable/modules/feature_extraction.html#text-feature-extraction).\n"
   ]
  },
  {
   "cell_type": "code",
   "execution_count": 8,
   "metadata": {
    "colab": {
     "base_uri": "https://localhost:8080/",
     "height": 204
    },
    "executionInfo": {
     "elapsed": 1555,
     "status": "ok",
     "timestamp": 1614429005216,
     "user": {
      "displayName": "N. E.",
      "photoUrl": "https://lh3.googleusercontent.com/a-/AOh14Giu1R9ux2DYhWOwxiNijmyUYXnfk9yJqUCLNyq_vA=s64",
      "userId": "01997527614154494135"
     },
     "user_tz": 0
    },
    "id": "lKLa_4-2dS5G",
    "outputId": "bef12fc2-8693-474a-fd14-65a7ae3d5a6d"
   },
   "outputs": [
    {
     "name": "stderr",
     "output_type": "stream",
     "text": [
      "/Users/nataliaefremova/anaconda3/envs/tf/lib/python3.7/site-packages/sklearn/utils/deprecation.py:87: FutureWarning: Function get_feature_names is deprecated; get_feature_names is deprecated in 1.0 and will be removed in 1.2. Please use get_feature_names_out instead.\n",
      "  warnings.warn(msg, category=FutureWarning)\n"
     ]
    },
    {
     "data": {
      "text/html": [
       "<div>\n",
       "<style scoped>\n",
       "    .dataframe tbody tr th:only-of-type {\n",
       "        vertical-align: middle;\n",
       "    }\n",
       "\n",
       "    .dataframe tbody tr th {\n",
       "        vertical-align: top;\n",
       "    }\n",
       "\n",
       "    .dataframe thead th {\n",
       "        text-align: right;\n",
       "    }\n",
       "</style>\n",
       "<table border=\"1\" class=\"dataframe\">\n",
       "  <thead>\n",
       "    <tr style=\"text-align: right;\">\n",
       "      <th></th>\n",
       "      <th>good movie</th>\n",
       "      <th>like</th>\n",
       "      <th>movie</th>\n",
       "      <th>not</th>\n",
       "    </tr>\n",
       "  </thead>\n",
       "  <tbody>\n",
       "    <tr>\n",
       "      <th>0</th>\n",
       "      <td>0.707107</td>\n",
       "      <td>0.000000</td>\n",
       "      <td>0.707107</td>\n",
       "      <td>0.000000</td>\n",
       "    </tr>\n",
       "    <tr>\n",
       "      <th>1</th>\n",
       "      <td>0.577350</td>\n",
       "      <td>0.000000</td>\n",
       "      <td>0.577350</td>\n",
       "      <td>0.577350</td>\n",
       "    </tr>\n",
       "    <tr>\n",
       "      <th>2</th>\n",
       "      <td>0.000000</td>\n",
       "      <td>0.707107</td>\n",
       "      <td>0.000000</td>\n",
       "      <td>0.707107</td>\n",
       "    </tr>\n",
       "    <tr>\n",
       "      <th>3</th>\n",
       "      <td>0.000000</td>\n",
       "      <td>1.000000</td>\n",
       "      <td>0.000000</td>\n",
       "      <td>0.000000</td>\n",
       "    </tr>\n",
       "    <tr>\n",
       "      <th>4</th>\n",
       "      <td>0.000000</td>\n",
       "      <td>0.000000</td>\n",
       "      <td>0.000000</td>\n",
       "      <td>0.000000</td>\n",
       "    </tr>\n",
       "  </tbody>\n",
       "</table>\n",
       "</div>"
      ],
      "text/plain": [
       "   good movie      like     movie       not\n",
       "0    0.707107  0.000000  0.707107  0.000000\n",
       "1    0.577350  0.000000  0.577350  0.577350\n",
       "2    0.000000  0.707107  0.000000  0.707107\n",
       "3    0.000000  1.000000  0.000000  0.000000\n",
       "4    0.000000  0.000000  0.000000  0.000000"
      ]
     },
     "execution_count": 8,
     "metadata": {},
     "output_type": "execute_result"
    }
   ],
   "source": [
    "from sklearn.feature_extraction.text import TfidfVectorizer\n",
    "import pandas as pd\n",
    "texts = [\n",
    "    \"good movie\", \"not a good movie\", \"did not like\", \n",
    "    \"i like it\", \"good one\"\n",
    "]\n",
    "# using default tokenizer in TfidfVectorizer\n",
    "tfidf = TfidfVectorizer(min_df=2, max_df=0.5, ngram_range=(1, 2))\n",
    "features = tfidf.fit_transform(texts)\n",
    "pd.DataFrame(\n",
    "    features.todense(),\n",
    "    columns=tfidf.get_feature_names()\n",
    ")"
   ]
  },
  {
   "cell_type": "markdown",
   "metadata": {
    "id": "AetbB22pdS5H"
   },
   "source": [
    "# One-hot encoding"
   ]
  },
  {
   "cell_type": "code",
   "execution_count": 9,
   "metadata": {
    "executionInfo": {
     "elapsed": 1247,
     "status": "ok",
     "timestamp": 1614429005217,
     "user": {
      "displayName": "N. E.",
      "photoUrl": "https://lh3.googleusercontent.com/a-/AOh14Giu1R9ux2DYhWOwxiNijmyUYXnfk9yJqUCLNyq_vA=s64",
      "userId": "01997527614154494135"
     },
     "user_tz": 0
    },
    "id": "VJpGIlLadS5H"
   },
   "outputs": [],
   "source": [
    "from keras.preprocessing.text import Tokenizer\n",
    "\n",
    "samples = ['Mary has a ball', 'The dog ate my homework.']\n",
    "\n",
    "# We create a tokenizer, configured to only take\n",
    "# into account the top-1000 most common words\n",
    "tokenizer = Tokenizer(num_words=10)\n",
    "# This builds the word index\n",
    "tokenizer.fit_on_texts(samples)\n",
    "\n",
    "# This turns strings into lists of integer indices.\n",
    "sequences = tokenizer.texts_to_sequences(samples)\n",
    "\n",
    "# You could also directly get the one-hot binary representations.\n",
    "# Note that other vectorization modes than one-hot encoding are supported!\n",
    "one_hot_results = tokenizer.texts_to_matrix(samples, mode='binary')"
   ]
  },
  {
   "cell_type": "code",
   "execution_count": 10,
   "metadata": {
    "colab": {
     "base_uri": "https://localhost:8080/"
    },
    "executionInfo": {
     "elapsed": 1055,
     "status": "ok",
     "timestamp": 1614429005217,
     "user": {
      "displayName": "N. E.",
      "photoUrl": "https://lh3.googleusercontent.com/a-/AOh14Giu1R9ux2DYhWOwxiNijmyUYXnfk9yJqUCLNyq_vA=s64",
      "userId": "01997527614154494135"
     },
     "user_tz": 0
    },
    "id": "EJRDRJmIdS5H",
    "outputId": "1f771800-aea1-4e6b-a387-a1bae682d2d9"
   },
   "outputs": [
    {
     "data": {
      "text/plain": [
       "array([0., 0., 0., 0., 0., 1., 1., 1., 1., 1.])"
      ]
     },
     "execution_count": 10,
     "metadata": {},
     "output_type": "execute_result"
    }
   ],
   "source": [
    "one_hot_results[1]"
   ]
  },
  {
   "cell_type": "markdown",
   "metadata": {
    "id": "xQlVx6UsdS5I"
   },
   "source": [
    "Try changing \"The\" in the second snetence to \"a\", the result will change. Why?"
   ]
  },
  {
   "cell_type": "markdown",
   "metadata": {
    "id": "1WrHZf5DdS5J"
   },
   "source": [
    "# Using word embeddings\n",
    "\n",
    "Another popular and powerful way to associate a vector with a word is the use of dense \"word vectors\", also called \"word embeddings\". \n",
    "While the vectors obtained through one-hot encoding are binary, sparse (mostly made of zeros) and very high-dimensional (same dimensionality as the number of words in the vocabulary), \"word embeddings\" are low-dimensional floating point vectors (i.e. \"dense\" vectors, as opposed to sparse vectors). \n",
    "\n",
    "Unlike word vectors obtained via one-hot encoding, word embeddings are learned from data. \n",
    "Word embeddings pack more information into far fewer dimensions. "
   ]
  },
  {
   "cell_type": "markdown",
   "metadata": {
    "id": "7K0eiJmFdS5J"
   },
   "source": [
    "There are two ways to obtain word embeddings:\n",
    "\n",
    "* Learn word embeddings jointly with the main task you care about (e.g. document classification or sentiment prediction). \n",
    "In this setup, you would start with random word vectors, then learn your word vectors in the same way that you learn the weights of a neural network.\n",
    "* Load into your model word embeddings that were pre-computed using a different machine learning task than the one you are trying to solve. \n",
    "These are called \"pre-trained word embeddings\". \n",
    "\n",
    "Let's take a look at both."
   ]
  },
  {
   "cell_type": "markdown",
   "metadata": {
    "id": "0-zgh4sMdS5J"
   },
   "source": [
    "## Learning word embeddings with the `Embedding` layer\n",
    "\n",
    "The geometric relationships between word vectors should reflect the semantic relationships between these words. \n",
    "It is thus reasonable to __learn__ a new embedding space with every new task. Thankfully, backpropagation makes this really easy, and Keras makes it even easier. It's just about learning the weights of a layer: the `Embedding` layer."
   ]
  },
  {
   "cell_type": "code",
   "execution_count": 11,
   "metadata": {
    "executionInfo": {
     "elapsed": 461,
     "status": "ok",
     "timestamp": 1614429005542,
     "user": {
      "displayName": "N. E.",
      "photoUrl": "https://lh3.googleusercontent.com/a-/AOh14Giu1R9ux2DYhWOwxiNijmyUYXnfk9yJqUCLNyq_vA=s64",
      "userId": "01997527614154494135"
     },
     "user_tz": 0
    },
    "id": "j4adPpjddS5K"
   },
   "outputs": [],
   "source": [
    "from keras.layers import Embedding\n",
    "\n",
    "# The Embedding layer takes at least two arguments:\n",
    "# the number of possible tokens, here 1000 (1 + maximum word index),\n",
    "# and the dimensionality of the embeddings, here 64.\n",
    "embedding_layer = Embedding(1000, 64)\n"
   ]
  },
  {
   "cell_type": "markdown",
   "metadata": {
    "id": "-luHqRgSdS5K"
   },
   "source": [
    "The `Embedding` layer is best understood as a dictionary mapping integer indices (which stand for specific words) to dense vectors. It takes \n",
    "as input integers, it looks up these integers into an internal dictionary, and it returns the associated vectors. It's effectively a dictionary lookup.\n",
    "\n",
    "Let's apply this idea to the IMDB movie review sentiment prediction task that you are already familiar with. Let's quickly prepare \n",
    "the data. We will restrict the movie reviews to the top 10,000 most common words (like we did the first time we worked with this dataset), \n",
    "and cut the reviews after only 20 words. Our network will simply learn 8-dimensional embeddings for each of the 10,000 words, turn the \n",
    "input integer sequences (2D integer tensor) into embedded sequences (3D float tensor), flatten the tensor to 2D, and train a single `Dense` \n",
    "layer on top for classification."
   ]
  },
  {
   "cell_type": "code",
   "execution_count": 12,
   "metadata": {
    "colab": {
     "base_uri": "https://localhost:8080/"
    },
    "executionInfo": {
     "elapsed": 6900,
     "status": "ok",
     "timestamp": 1614429012525,
     "user": {
      "displayName": "N. E.",
      "photoUrl": "https://lh3.googleusercontent.com/a-/AOh14Giu1R9ux2DYhWOwxiNijmyUYXnfk9yJqUCLNyq_vA=s64",
      "userId": "01997527614154494135"
     },
     "user_tz": 0
    },
    "id": "hpgDRK1WdS5L",
    "outputId": "82ab9ca5-f62d-48d1-efbf-0ff330ffdc0f"
   },
   "outputs": [
    {
     "name": "stderr",
     "output_type": "stream",
     "text": [
      "/Users/nataliaefremova/anaconda3/envs/tf/lib/python3.7/site-packages/keras/datasets/imdb.py:101: VisibleDeprecationWarning: Creating an ndarray from ragged nested sequences (which is a list-or-tuple of lists-or-tuples-or ndarrays with different lengths or shapes) is deprecated. If you meant to do this, you must specify 'dtype=object' when creating the ndarray.\n",
      "  x_train, y_train = np.array(xs[:idx]), np.array(labels[:idx])\n",
      "/Users/nataliaefremova/anaconda3/envs/tf/lib/python3.7/site-packages/keras/datasets/imdb.py:102: VisibleDeprecationWarning: Creating an ndarray from ragged nested sequences (which is a list-or-tuple of lists-or-tuples-or ndarrays with different lengths or shapes) is deprecated. If you meant to do this, you must specify 'dtype=object' when creating the ndarray.\n",
      "  x_test, y_test = np.array(xs[idx:]), np.array(labels[idx:])\n"
     ]
    }
   ],
   "source": [
    "from keras.datasets import imdb\n",
    "from keras import preprocessing\n",
    "\n",
    "# Number of words to consider as features\n",
    "max_features = 10000\n",
    "# Cut texts after this number of words \n",
    "# (among top max_features most common words)\n",
    "maxlen = 20\n",
    "\n",
    "# Load the data as lists of integers.\n",
    "(x_train, y_train), (x_test, y_test) = imdb.load_data(num_words=max_features)\n",
    "\n",
    "# This turns our lists of integers\n",
    "# into a 2D integer tensor of shape `(samples, maxlen)`\n",
    "x_train = preprocessing.sequence.pad_sequences(x_train, maxlen=maxlen)\n",
    "x_test = preprocessing.sequence.pad_sequences(x_test, maxlen=maxlen)"
   ]
  },
  {
   "cell_type": "code",
   "execution_count": 13,
   "metadata": {
    "colab": {
     "base_uri": "https://localhost:8080/"
    },
    "executionInfo": {
     "elapsed": 6568,
     "status": "ok",
     "timestamp": 1614429012526,
     "user": {
      "displayName": "N. E.",
      "photoUrl": "https://lh3.googleusercontent.com/a-/AOh14Giu1R9ux2DYhWOwxiNijmyUYXnfk9yJqUCLNyq_vA=s64",
      "userId": "01997527614154494135"
     },
     "user_tz": 0
    },
    "id": "ubNYGorjdS5L",
    "outputId": "6a1d6532-f9d4-436d-ce21-c945e516192b"
   },
   "outputs": [
    {
     "name": "stdout",
     "output_type": "stream",
     "text": [
      "Model: \"sequential_1\"\n",
      "_________________________________________________________________\n",
      "Layer (type)                 Output Shape              Param #   \n",
      "=================================================================\n",
      "embedding_2 (Embedding)      (None, 20, 8)             80000     \n",
      "_________________________________________________________________\n",
      "flatten_1 (Flatten)          (None, 160)               0         \n",
      "_________________________________________________________________\n",
      "dense_1 (Dense)              (None, 128)               20608     \n",
      "_________________________________________________________________\n",
      "dense_2 (Dense)              (None, 1)                 129       \n",
      "=================================================================\n",
      "Total params: 100,737\n",
      "Trainable params: 100,737\n",
      "Non-trainable params: 0\n",
      "_________________________________________________________________\n"
     ]
    },
    {
     "name": "stderr",
     "output_type": "stream",
     "text": [
      "2022-06-19 20:25:16.751675: I tensorflow/core/platform/cpu_feature_guard.cc:145] This TensorFlow binary is optimized with Intel(R) MKL-DNN to use the following CPU instructions in performance critical operations:  SSE4.1 SSE4.2 AVX AVX2 FMA\n",
      "To enable them in non-MKL-DNN operations, rebuild TensorFlow with the appropriate compiler flags.\n",
      "2022-06-19 20:25:16.751964: I tensorflow/core/common_runtime/process_util.cc:115] Creating new thread pool with default inter op setting: 8. Tune using inter_op_parallelism_threads for best performance.\n"
     ]
    }
   ],
   "source": [
    "from keras.models import Sequential\n",
    "from keras.layers import Flatten, Dense\n",
    "\n",
    "model = Sequential()\n",
    "# We specify the maximum input length to our Embedding layer\n",
    "# so we can later flatten the embedded inputs\n",
    "model.add(Embedding(10000, 8, input_length=maxlen))\n",
    "# After the Embedding layer, \n",
    "# our activations have shape `(samples, maxlen, 8)`.\n",
    "# We flatten the 3D tensor of embeddings \n",
    "# into a 2D tensor of shape `(samples, maxlen * 8)`\n",
    "model.add(Flatten())\n",
    "#add the hidden layer\n",
    "model.add(Dense(128, activation=\"relu\")),\n",
    "# We add the classifier on top\n",
    "model.add(Dense(1, activation='sigmoid'))\n",
    "model.compile(optimizer='adam', loss='binary_crossentropy', metrics=['acc'])\n",
    "model.summary()"
   ]
  },
  {
   "cell_type": "code",
   "execution_count": 14,
   "metadata": {
    "colab": {
     "base_uri": "https://localhost:8080/"
    },
    "executionInfo": {
     "elapsed": 16049,
     "status": "ok",
     "timestamp": 1614429022455,
     "user": {
      "displayName": "N. E.",
      "photoUrl": "https://lh3.googleusercontent.com/a-/AOh14Giu1R9ux2DYhWOwxiNijmyUYXnfk9yJqUCLNyq_vA=s64",
      "userId": "01997527614154494135"
     },
     "user_tz": 0
    },
    "id": "O8Bwg2H-dS5L",
    "outputId": "8862ddc6-47cf-4289-bb66-1a8f47638f07"
   },
   "outputs": [
    {
     "name": "stderr",
     "output_type": "stream",
     "text": [
      "/Users/nataliaefremova/anaconda3/envs/tf/lib/python3.7/site-packages/tensorflow_core/python/framework/indexed_slices.py:424: UserWarning: Converting sparse IndexedSlices to a dense Tensor of unknown shape. This may consume a large amount of memory.\n",
      "  \"Converting sparse IndexedSlices to a dense Tensor of unknown shape. \"\n"
     ]
    },
    {
     "name": "stdout",
     "output_type": "stream",
     "text": [
      "Train on 20000 samples, validate on 5000 samples\n",
      "Epoch 1/10\n",
      "20000/20000 [==============================] - 4s 220us/step - loss: 0.5705 - acc: 0.6850 - val_loss: 0.4993 - val_acc: 0.7446\n",
      "Epoch 2/10\n",
      "20000/20000 [==============================] - 4s 196us/step - loss: 0.3833 - acc: 0.8267 - val_loss: 0.5155 - val_acc: 0.7416\n",
      "Epoch 3/10\n",
      "20000/20000 [==============================] - 4s 199us/step - loss: 0.2481 - acc: 0.9026 - val_loss: 0.6427 - val_acc: 0.7294\n",
      "Epoch 4/10\n",
      "20000/20000 [==============================] - 4s 204us/step - loss: 0.1254 - acc: 0.9568 - val_loss: 0.8569 - val_acc: 0.7170\n",
      "Epoch 5/10\n",
      "20000/20000 [==============================] - 4s 205us/step - loss: 0.0522 - acc: 0.9858 - val_loss: 1.1403 - val_acc: 0.7216\n",
      "Epoch 6/10\n",
      "20000/20000 [==============================] - 4s 206us/step - loss: 0.0178 - acc: 0.9966 - val_loss: 1.3911 - val_acc: 0.7138\n",
      "Epoch 7/10\n",
      "20000/20000 [==============================] - 4s 208us/step - loss: 0.0054 - acc: 0.9995 - val_loss: 1.5993 - val_acc: 0.7138\n",
      "Epoch 8/10\n",
      "20000/20000 [==============================] - 4s 210us/step - loss: 0.0019 - acc: 0.9999 - val_loss: 1.7341 - val_acc: 0.7140\n",
      "Epoch 9/10\n",
      "20000/20000 [==============================] - 4s 211us/step - loss: 9.3914e-04 - acc: 0.9999 - val_loss: 1.8118 - val_acc: 0.7164\n",
      "Epoch 10/10\n",
      "20000/20000 [==============================] - 4s 212us/step - loss: 0.0012 - acc: 0.9999 - val_loss: 1.8839 - val_acc: 0.7144\n"
     ]
    }
   ],
   "source": [
    "history = model.fit(x_train, y_train,\n",
    "                    epochs=10,\n",
    "                    batch_size=32,\n",
    "                    validation_split=0.2)"
   ]
  },
  {
   "cell_type": "code",
   "execution_count": 15,
   "metadata": {
    "colab": {
     "base_uri": "https://localhost:8080/"
    },
    "executionInfo": {
     "elapsed": 16520,
     "status": "ok",
     "timestamp": 1614429023341,
     "user": {
      "displayName": "N. E.",
      "photoUrl": "https://lh3.googleusercontent.com/a-/AOh14Giu1R9ux2DYhWOwxiNijmyUYXnfk9yJqUCLNyq_vA=s64",
      "userId": "01997527614154494135"
     },
     "user_tz": 0
    },
    "id": "nOd0c3hJdS5M",
    "outputId": "4b1e0175-ee38-40a8-ac4a-0b873230d971"
   },
   "outputs": [
    {
     "name": "stdout",
     "output_type": "stream",
     "text": [
      "25000/25000 [==============================] - 1s 34us/step\n",
      "\n",
      "Test accuracy: 0.7135999798774719\n"
     ]
    }
   ],
   "source": [
    "test_loss, test_acc = model.evaluate(x_test, y_test)\n",
    "\n",
    "print('\\nTest accuracy:', test_acc)"
   ]
  },
  {
   "cell_type": "markdown",
   "metadata": {
    "id": "wud5ZtljdS5M"
   },
   "source": [
    "We get to a validation accuracy of ~75%, which is pretty good considering that we only look at the first 20 words in every review. But \n",
    "note that merely flattening the embedded sequences and training a single `Dense` layer on top leads to a model that treats each word in the \n",
    "input sequence separately, without considering inter-word relationships and structure sentence (e.g. it would likely treat both _\"this movie \n",
    "is shit\"_ and _\"this movie is the shit\"_ as being negative \"reviews\"). It would be much better to add recurrent layers or 1D convolutional \n",
    "layers on top of the embedded sequences to learn features that take into account each sequence as a whole. That's what we will focus on in \n",
    "the next few sections."
   ]
  },
  {
   "cell_type": "markdown",
   "metadata": {
    "id": "FKoJFRvXdS5N"
   },
   "source": [
    "# Plot the training history"
   ]
  },
  {
   "cell_type": "code",
   "execution_count": 16,
   "metadata": {
    "colab": {
     "base_uri": "https://localhost:8080/",
     "height": 312
    },
    "executionInfo": {
     "elapsed": 14860,
     "status": "ok",
     "timestamp": 1614429023342,
     "user": {
      "displayName": "N. E.",
      "photoUrl": "https://lh3.googleusercontent.com/a-/AOh14Giu1R9ux2DYhWOwxiNijmyUYXnfk9yJqUCLNyq_vA=s64",
      "userId": "01997527614154494135"
     },
     "user_tz": 0
    },
    "id": "P3cXYTbodS5N",
    "outputId": "420e3668-925e-43b7-c21d-8a8e35a2cecc"
   },
   "outputs": [
    {
     "name": "stdout",
     "output_type": "stream",
     "text": [
      "dict_keys(['val_loss', 'val_acc', 'loss', 'acc'])\n"
     ]
    },
    {
     "data": {
      "image/png": "[encoded data removed]",
      "text/plain": [
       "<Figure size 432x288 with 1 Axes>"
      ]
     },
     "metadata": {
      "needs_background": "light"
     },
     "output_type": "display_data"
    }
   ],
   "source": [
    "print(history.history.keys())\n",
    "plt.plot(history.history['acc'])\n",
    "plt.title('Model accuracy')\n",
    "plt.ylabel('accuracy')\n",
    "plt.xlabel('epoch')\n",
    "plt.legend(['train', 'test'], loc='upper left')\n",
    "plt.show()"
   ]
  },
  {
   "cell_type": "markdown",
   "metadata": {
    "id": "Em5AQT_wdoXq"
   },
   "source": [
    "## Text translation"
   ]
  },
  {
   "cell_type": "code",
   "execution_count": 22,
   "metadata": {},
   "outputs": [
    {
     "name": "stdout",
     "output_type": "stream",
     "text": [
      "Requirement already satisfied: translate in /Users/nataliaefremova/anaconda3/envs/tf/lib/python3.7/site-packages (3.6.1)\n",
      "Requirement already satisfied: lxml in /Users/nataliaefremova/anaconda3/envs/tf/lib/python3.7/site-packages (from translate) (4.8.0)\n",
      "Requirement already satisfied: libretranslatepy==2.1.1 in /Users/nataliaefremova/anaconda3/envs/tf/lib/python3.7/site-packages (from translate) (2.1.1)\n",
      "Requirement already satisfied: click in /Users/nataliaefremova/anaconda3/envs/tf/lib/python3.7/site-packages (from translate) (8.0.3)\n",
      "Requirement already satisfied: requests in /Users/nataliaefremova/anaconda3/envs/tf/lib/python3.7/site-packages (from translate) (2.26.0)\n",
      "Requirement already satisfied: importlib-metadata in /Users/nataliaefremova/anaconda3/envs/tf/lib/python3.7/site-packages (from click->translate) (4.8.1)\n",
      "Requirement already satisfied: zipp>=0.5 in /Users/nataliaefremova/anaconda3/envs/tf/lib/python3.7/site-packages (from importlib-metadata->click->translate) (3.5.0)\n",
      "Requirement already satisfied: typing-extensions>=3.6.4 in /Users/nataliaefremova/anaconda3/envs/tf/lib/python3.7/site-packages (from importlib-metadata->click->translate) (3.10.0.2)\n",
      "Requirement already satisfied: certifi>=2017.4.17 in /Users/nataliaefremova/anaconda3/envs/tf/lib/python3.7/site-packages (from requests->translate) (2021.10.8)\n",
      "Requirement already satisfied: urllib3<1.27,>=1.21.1 in /Users/nataliaefremova/anaconda3/envs/tf/lib/python3.7/site-packages (from requests->translate) (1.26.7)\n",
      "Requirement already satisfied: idna<4,>=2.5 in /Users/nataliaefremova/anaconda3/envs/tf/lib/python3.7/site-packages (from requests->translate) (3.2)\n",
      "Requirement already satisfied: charset-normalizer~=2.0.0 in /Users/nataliaefremova/anaconda3/envs/tf/lib/python3.7/site-packages (from requests->translate) (2.0.6)\n"
     ]
    }
   ],
   "source": [
    "! pip install translate"
   ]
  },
  {
   "cell_type": "code",
   "execution_count": 23,
   "metadata": {},
   "outputs": [
    {
     "name": "stdout",
     "output_type": "stream",
     "text": [
      "The handsome man\n"
     ]
    }
   ],
   "source": [
    "from translate import Translator\n",
    "translator = Translator(from_lang='el', to_lang='en')\n",
    "translation = translator.translate(\"Ο όμορφος άντρας\")\n",
    "\n",
    "print(translation)"
   ]
  },
  {
   "cell_type": "code",
   "execution_count": null,
   "metadata": {},
   "outputs": [],
   "source": []
  }
 ],
 "metadata": {
  "colab": {
   "name": "vectoring_text.ipynb",
   "provenance": []
  },
  "kernelspec": {
   "display_name": "Python 3 (ipykernel)",
   "language": "python",
   "name": "python3"
  },
  "language_info": {
   "codemirror_mode": {
    "name": "ipython",
    "version": 3
   },
   "file_extension": ".py",
   "mimetype": "text/x-python",
   "name": "python",
   "nbconvert_exporter": "python",
   "pygments_lexer": "ipython3",
   "version": "3.7.11"
  }
 },
 "nbformat": 4,
 "nbformat_minor": 1
}
