{
 "cells": [
  {
   "cell_type": "markdown",
   "id": "b20db63b",
   "metadata": {},
   "source": [
    "# Strings, regular explressions and working with text"
   ]
  },
  {
   "cell_type": "markdown",
   "id": "8a87a833",
   "metadata": {},
   "source": [
    "## Recap: string data type"
   ]
  },
  {
   "cell_type": "markdown",
   "id": "63272806",
   "metadata": {},
   "source": [
    "- a srting i a sequence of characters\n",
    "- a string literal uses quotes: \"Hello!\" or 'Hello': does not matter which one you use, just make syre to use the same one in the beginning and the end. These variability is done on purpose: we'll come back to these later\n",
    "- for strings '+' means concatenate\n",
    "- when a sring contains numbers, it is still a string\n",
    "- we can convert numbers in a string into a number using int()"
   ]
  },
  {
   "cell_type": "code",
   "execution_count": 1,
   "id": "73dc15dc",
   "metadata": {},
   "outputs": [],
   "source": [
    "str1 = \"Hello\"\n",
    "str2 = 'there'\n",
    "output = str1 + str2"
   ]
  },
  {
   "cell_type": "code",
   "execution_count": 2,
   "id": "8f43eec6",
   "metadata": {},
   "outputs": [
    {
     "name": "stdout",
     "output_type": "stream",
     "text": [
      "Hellothere\n"
     ]
    }
   ],
   "source": [
    "print(output)"
   ]
  },
  {
   "cell_type": "markdown",
   "id": "b6a54eba",
   "metadata": {},
   "source": [
    "Question: how do I insert a space?"
   ]
  },
  {
   "cell_type": "code",
   "execution_count": 4,
   "id": "a4c1c343",
   "metadata": {},
   "outputs": [],
   "source": [
    "# enter your answer here\n"
   ]
  },
  {
   "cell_type": "code",
   "execution_count": 5,
   "id": "4d0046f1",
   "metadata": {},
   "outputs": [
    {
     "ename": "TypeError",
     "evalue": "can only concatenate str (not \"int\") to str",
     "output_type": "error",
     "traceback": [
      "\u001b[0;31m---------------------------------------------------------------------------\u001b[0m",
      "\u001b[0;31mTypeError\u001b[0m                                 Traceback (most recent call last)",
      "\u001b[0;32m/var/folders/y3/6n_z927d0hscr4lz6c4gvsjc0000gn/T/ipykernel_23212/1370979626.py\u001b[0m in \u001b[0;36m<module>\u001b[0;34m\u001b[0m\n\u001b[1;32m      2\u001b[0m \u001b[0;34m\u001b[0m\u001b[0m\n\u001b[1;32m      3\u001b[0m \u001b[0mstr3\u001b[0m \u001b[0;34m=\u001b[0m \u001b[0;34m'123'\u001b[0m\u001b[0;34m\u001b[0m\u001b[0;34m\u001b[0m\u001b[0m\n\u001b[0;32m----> 4\u001b[0;31m \u001b[0mx\u001b[0m \u001b[0;34m=\u001b[0m \u001b[0mstr3\u001b[0m\u001b[0;34m+\u001b[0m \u001b[0;36m1\u001b[0m\u001b[0;34m\u001b[0m\u001b[0;34m\u001b[0m\u001b[0m\n\u001b[0m",
      "\u001b[0;31mTypeError\u001b[0m: can only concatenate str (not \"int\") to str"
     ]
    }
   ],
   "source": [
    "#working with numbers in the string:\n",
    "\n",
    "str3 = '123'\n",
    "x = str3+ 1"
   ]
  },
  {
   "cell_type": "code",
   "execution_count": 6,
   "id": "0de49b8b",
   "metadata": {},
   "outputs": [
    {
     "ename": "NameError",
     "evalue": "name '________' is not defined",
     "output_type": "error",
     "traceback": [
      "\u001b[0;31m---------------------------------------------------------------------------\u001b[0m",
      "\u001b[0;31mNameError\u001b[0m                                 Traceback (most recent call last)",
      "\u001b[0;32m/var/folders/y3/6n_z927d0hscr4lz6c4gvsjc0000gn/T/ipykernel_23212/264582904.py\u001b[0m in \u001b[0;36m<module>\u001b[0;34m\u001b[0m\n\u001b[1;32m      1\u001b[0m \u001b[0;31m# how to correct it?\u001b[0m\u001b[0;34m\u001b[0m\u001b[0;34m\u001b[0m\u001b[0;34m\u001b[0m\u001b[0m\n\u001b[0;32m----> 2\u001b[0;31m \u001b[0m________\u001b[0m\u001b[0;34m\u001b[0m\u001b[0;34m\u001b[0m\u001b[0m\n\u001b[0m\u001b[1;32m      3\u001b[0m \u001b[0;34m\u001b[0m\u001b[0m\n\u001b[1;32m      4\u001b[0m \u001b[0mprint\u001b[0m\u001b[0;34m(\u001b[0m\u001b[0mx\u001b[0m\u001b[0;34m)\u001b[0m\u001b[0;34m\u001b[0m\u001b[0;34m\u001b[0m\u001b[0m\n",
      "\u001b[0;31mNameError\u001b[0m: name '________' is not defined"
     ]
    }
   ],
   "source": [
    "# how to correct it?\n",
    "________\n",
    "\n",
    "print(x)\n"
   ]
  },
  {
   "cell_type": "code",
   "execution_count": null,
   "id": "7ba497f7",
   "metadata": {},
   "outputs": [],
   "source": []
  }
 ],
 "metadata": {
  "kernelspec": {
   "display_name": "Python 3 (ipykernel)",
   "language": "python",
   "name": "python3"
  },
  "language_info": {
   "codemirror_mode": {
    "name": "ipython",
    "version": 3
   },
   "file_extension": ".py",
   "mimetype": "text/x-python",
   "name": "python",
   "nbconvert_exporter": "python",
   "pygments_lexer": "ipython3",
   "version": "3.7.11"
  }
 },
 "nbformat": 4,
 "nbformat_minor": 5
}
