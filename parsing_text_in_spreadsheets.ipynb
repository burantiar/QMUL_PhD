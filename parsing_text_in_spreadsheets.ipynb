{
  "cells": [
    {
      "cell_type": "markdown",
      "id": "naval-training",
      "metadata": {
        "id": "naval-training"
      },
      "source": [
        "# Import libraries"
      ]
    },
    {
      "cell_type": "code",
      "source": [
        "from google.colab import drive\n",
        "import os\n",
        "drive.mount('/content/drive')"
      ],
      "metadata": {
        "colab": {
          "base_uri": "https://localhost:8080/"
        },
        "id": "ZCpIRKNG5DZB",
        "outputId": "92b29746-400d-452f-b70e-8457acc304ea"
      },
      "id": "ZCpIRKNG5DZB",
      "execution_count": 1,
      "outputs": [
        {
          "output_type": "stream",
          "name": "stdout",
          "text": [
            "Mounted at /content/drive\n"
          ]
        }
      ]
    },
    {
      "cell_type": "code",
      "source": [
        "pwd"
      ],
      "metadata": {
        "colab": {
          "base_uri": "https://localhost:8080/",
          "height": 37
        },
        "id": "oTmz27ecqcGM",
        "outputId": "8a947825-a2e0-4429-d086-2081aec22e74"
      },
      "id": "oTmz27ecqcGM",
      "execution_count": 2,
      "outputs": [
        {
          "output_type": "execute_result",
          "data": {
            "text/plain": [
              "'/content'"
            ],
            "application/vnd.google.colaboratory.intrinsic+json": {
              "type": "string"
            }
          },
          "metadata": {},
          "execution_count": 2
        }
      ]
    },
    {
      "cell_type": "code",
      "source": [
        "cd /content/drive/MyDrive/Lei_WoS"
      ],
      "metadata": {
        "colab": {
          "base_uri": "https://localhost:8080/"
        },
        "id": "0j_rfKFM5OQT",
        "outputId": "2ba91c6d-4ead-4dc5-870b-c5bec0c2a6ef"
      },
      "id": "0j_rfKFM5OQT",
      "execution_count": 7,
      "outputs": [
        {
          "output_type": "stream",
          "name": "stdout",
          "text": [
            "/content/drive/MyDrive/Lei_WoS\n"
          ]
        }
      ]
    },
    {
      "cell_type": "code",
      "source": [
        "ls"
      ],
      "metadata": {
        "colab": {
          "base_uri": "https://localhost:8080/"
        },
        "id": "CX5O9tWyqp5T",
        "outputId": "00df2635-9002-464b-c2bd-99824d9e4797"
      },
      "id": "CX5O9tWyqp5T",
      "execution_count": 59,
      "outputs": [
        {
          "output_type": "stream",
          "name": "stdout",
          "text": [
            "'7059_Web of Science_Smart Home.csv'\n",
            "'7059_Web of Science_Smart Home.xls'\n",
            "'7140_Web of Science_(\"Technology Adoption\" OR \"Technology Acceptance\").xls'\n",
            " factiva_academic_clean.csv\n",
            " factiva_Lei_clean.csv\n",
            " factiva_WoS.csv\n",
            " parsing-Lei-WoS.ipynb\n",
            " Smart_home_data_overview.gdoc\n",
            " wos_clean.csv\n"
          ]
        }
      ]
    },
    {
      "cell_type": "code",
      "execution_count": 60,
      "id": "cf5bbbfc",
      "metadata": {
        "id": "cf5bbbfc"
      },
      "outputs": [],
      "source": [
        "import pandas as pd\n",
        "import re"
      ]
    },
    {
      "cell_type": "code",
      "execution_count": 61,
      "id": "139336d0",
      "metadata": {
        "id": "139336d0"
      },
      "outputs": [],
      "source": [
        "#for switching between Python 2 and 3\n",
        "from __future__ import absolute_import, print_function, division\n",
        "\n",
        "#general libraries for the code\n",
        "import os\n",
        "import re # regular expression library; for tokenization of words\n",
        "import numpy as np\n",
        "import pandas as pd\n",
        "from collections import Counter # collections library; counter: dict subclass for counting hashable objects\n",
        "import matplotlib.pyplot as plt # for data visualization\n",
        "%matplotlib inline\n",
        "\n",
        "#NLP tools\n",
        "import string\n",
        "from nltk.corpus import stopwords\n",
        "from nltk.stem import PorterStemmer\n",
        "from nltk.tokenize import TweetTokenizer\n",
        "\n",
        "\n",
        "import spacy\n",
        "import en_core_web_sm \n"
      ]
    },
    {
      "cell_type": "code",
      "execution_count": 62,
      "id": "9acb3d8f",
      "metadata": {
        "id": "9acb3d8f"
      },
      "outputs": [],
      "source": [
        "# what file are we parsing? please insert the path to your file below\n",
        "\n",
        "file1 = 'wos.csv'\n"
      ]
    },
    {
      "cell_type": "code",
      "execution_count": 16,
      "id": "3d2e4455",
      "metadata": {
        "colab": {
          "base_uri": "https://localhost:8080/",
          "height": 756
        },
        "id": "3d2e4455",
        "outputId": "da913971-0a17-4cff-c28f-b2597ef5094b"
      },
      "outputs": [
        {
          "output_type": "execute_result",
          "data": {
            "text/plain": [
              "  Publication Type                         Authors Book Authors Book Editors  \\\n",
              "0                J              Tang, RY; Inoue, Y          NaN          NaN   \n",
              "1                C      Jiang, L; Liu, DY; Yang, B          NaN          NaN   \n",
              "2                C               Ye, XJ; Huang, JW          NaN          NaN   \n",
              "3                C  Saxena, U; Sodhi, JS; Singh, Y          NaN          NaN   \n",
              "4                J                        Jiang, N          NaN          NaN   \n",
              "\n",
              "  Book Group Authors                               Author Full Names  \\\n",
              "0                NaN                      Tang, Ruiyang; Inoue, Yuki   \n",
              "1               ieee                      Jiang, L; Liu, DY; Yang, B   \n",
              "2               IEEE                     Ye, Xiaojing; Huang, Junwei   \n",
              "3               IEEE  Saxena, Utkarsh; Sodhi, J. S.; Singh, Yaduveer   \n",
              "4                NaN                                      Jiang, Nan   \n",
              "\n",
              "  Book Author Full Names Group Authors  \\\n",
              "0                    NaN           NaN   \n",
              "1                    NaN           NaN   \n",
              "2                    NaN           NaN   \n",
              "3                    NaN           NaN   \n",
              "4                    NaN           NaN   \n",
              "\n",
              "                                       Article Title  \\\n",
              "0  Services on Platform Ecosystems in the Smart H...   \n",
              "1                                Smart home research   \n",
              "2             A Framework for Cloud-based Smart Home   \n",
              "3  Analysis of Security Attacks in a Smart Home N...   \n",
              "4  Smart Home Product Layout Design Method Based ...   \n",
              "\n",
              "                                        Source Title  ...  \\\n",
              "0                                            SENSORS  ...   \n",
              "1  PROCEEDINGS OF THE 2004 INTERNATIONAL CONFEREN...  ...   \n",
              "2  2011 INTERNATIONAL CONFERENCE ON COMPUTER SCIE...  ...   \n",
              "3  PROCEEDINGS OF THE 7TH INTERNATIONAL CONFERENC...  ...   \n",
              "4        COMPUTATIONAL INTELLIGENCE AND NEUROSCIENCE  ...   \n",
              "\n",
              "  Web of Science Index                                     Research Areas  \\\n",
              "0                  NaN  Chemistry; Engineering; Instruments & Instrume...   \n",
              "1                  NaN                                   Computer Science   \n",
              "2                  NaN                      Computer Science; Engineering   \n",
              "3                  NaN                                   Computer Science   \n",
              "4                  NaN  Mathematical & Computational Biology; Neurosci...   \n",
              "\n",
              "   IDS Number  Pubmed Id  Open Access Designations  Highly Cited Status  \\\n",
              "0         NaN        NaN                       NaN                  NaN   \n",
              "1         NaN        NaN                       NaN                  NaN   \n",
              "2         NaN        NaN                       NaN                  NaN   \n",
              "3         NaN        NaN                       NaN                  NaN   \n",
              "4         NaN        NaN                       NaN                  NaN   \n",
              "\n",
              "   Hot Paper Status  Date of Export  UT (Unique WOS ID)  \\\n",
              "0               NaN             NaN                 NaN   \n",
              "1               NaN             NaN                 NaN   \n",
              "2               NaN             NaN                 NaN   \n",
              "3               NaN             NaN                 NaN   \n",
              "4               NaN             NaN                 NaN   \n",
              "\n",
              "                Web of Science Record  \n",
              "0  View Full Record in Web of Science  \n",
              "1  View Full Record in Web of Science  \n",
              "2  View Full Record in Web of Science  \n",
              "3  View Full Record in Web of Science  \n",
              "4  View Full Record in Web of Science  \n",
              "\n",
              "[5 rows x 72 columns]"
            ],
            "text/html": [
              "\n",
              "  <div id=\"df-027b2ead-1c73-436d-9070-84569cfc3aa2\">\n",
              "    <div class=\"colab-df-container\">\n",
              "      <div>\n",
              "<style scoped>\n",
              "    .dataframe tbody tr th:only-of-type {\n",
              "        vertical-align: middle;\n",
              "    }\n",
              "\n",
              "    .dataframe tbody tr th {\n",
              "        vertical-align: top;\n",
              "    }\n",
              "\n",
              "    .dataframe thead th {\n",
              "        text-align: right;\n",
              "    }\n",
              "</style>\n",
              "<table border=\"1\" class=\"dataframe\">\n",
              "  <thead>\n",
              "    <tr style=\"text-align: right;\">\n",
              "      <th></th>\n",
              "      <th>Publication Type</th>\n",
              "      <th>Authors</th>\n",
              "      <th>Book Authors</th>\n",
              "      <th>Book Editors</th>\n",
              "      <th>Book Group Authors</th>\n",
              "      <th>Author Full Names</th>\n",
              "      <th>Book Author Full Names</th>\n",
              "      <th>Group Authors</th>\n",
              "      <th>Article Title</th>\n",
              "      <th>Source Title</th>\n",
              "      <th>...</th>\n",
              "      <th>Web of Science Index</th>\n",
              "      <th>Research Areas</th>\n",
              "      <th>IDS Number</th>\n",
              "      <th>Pubmed Id</th>\n",
              "      <th>Open Access Designations</th>\n",
              "      <th>Highly Cited Status</th>\n",
              "      <th>Hot Paper Status</th>\n",
              "      <th>Date of Export</th>\n",
              "      <th>UT (Unique WOS ID)</th>\n",
              "      <th>Web of Science Record</th>\n",
              "    </tr>\n",
              "  </thead>\n",
              "  <tbody>\n",
              "    <tr>\n",
              "      <th>0</th>\n",
              "      <td>J</td>\n",
              "      <td>Tang, RY; Inoue, Y</td>\n",
              "      <td>NaN</td>\n",
              "      <td>NaN</td>\n",
              "      <td>NaN</td>\n",
              "      <td>Tang, Ruiyang; Inoue, Yuki</td>\n",
              "      <td>NaN</td>\n",
              "      <td>NaN</td>\n",
              "      <td>Services on Platform Ecosystems in the Smart H...</td>\n",
              "      <td>SENSORS</td>\n",
              "      <td>...</td>\n",
              "      <td>NaN</td>\n",
              "      <td>Chemistry; Engineering; Instruments &amp; Instrume...</td>\n",
              "      <td>NaN</td>\n",
              "      <td>NaN</td>\n",
              "      <td>NaN</td>\n",
              "      <td>NaN</td>\n",
              "      <td>NaN</td>\n",
              "      <td>NaN</td>\n",
              "      <td>NaN</td>\n",
              "      <td>View Full Record in Web of Science</td>\n",
              "    </tr>\n",
              "    <tr>\n",
              "      <th>1</th>\n",
              "      <td>C</td>\n",
              "      <td>Jiang, L; Liu, DY; Yang, B</td>\n",
              "      <td>NaN</td>\n",
              "      <td>NaN</td>\n",
              "      <td>ieee</td>\n",
              "      <td>Jiang, L; Liu, DY; Yang, B</td>\n",
              "      <td>NaN</td>\n",
              "      <td>NaN</td>\n",
              "      <td>Smart home research</td>\n",
              "      <td>PROCEEDINGS OF THE 2004 INTERNATIONAL CONFEREN...</td>\n",
              "      <td>...</td>\n",
              "      <td>NaN</td>\n",
              "      <td>Computer Science</td>\n",
              "      <td>NaN</td>\n",
              "      <td>NaN</td>\n",
              "      <td>NaN</td>\n",
              "      <td>NaN</td>\n",
              "      <td>NaN</td>\n",
              "      <td>NaN</td>\n",
              "      <td>NaN</td>\n",
              "      <td>View Full Record in Web of Science</td>\n",
              "    </tr>\n",
              "    <tr>\n",
              "      <th>2</th>\n",
              "      <td>C</td>\n",
              "      <td>Ye, XJ; Huang, JW</td>\n",
              "      <td>NaN</td>\n",
              "      <td>NaN</td>\n",
              "      <td>IEEE</td>\n",
              "      <td>Ye, Xiaojing; Huang, Junwei</td>\n",
              "      <td>NaN</td>\n",
              "      <td>NaN</td>\n",
              "      <td>A Framework for Cloud-based Smart Home</td>\n",
              "      <td>2011 INTERNATIONAL CONFERENCE ON COMPUTER SCIE...</td>\n",
              "      <td>...</td>\n",
              "      <td>NaN</td>\n",
              "      <td>Computer Science; Engineering</td>\n",
              "      <td>NaN</td>\n",
              "      <td>NaN</td>\n",
              "      <td>NaN</td>\n",
              "      <td>NaN</td>\n",
              "      <td>NaN</td>\n",
              "      <td>NaN</td>\n",
              "      <td>NaN</td>\n",
              "      <td>View Full Record in Web of Science</td>\n",
              "    </tr>\n",
              "    <tr>\n",
              "      <th>3</th>\n",
              "      <td>C</td>\n",
              "      <td>Saxena, U; Sodhi, JS; Singh, Y</td>\n",
              "      <td>NaN</td>\n",
              "      <td>NaN</td>\n",
              "      <td>IEEE</td>\n",
              "      <td>Saxena, Utkarsh; Sodhi, J. S.; Singh, Yaduveer</td>\n",
              "      <td>NaN</td>\n",
              "      <td>NaN</td>\n",
              "      <td>Analysis of Security Attacks in a Smart Home N...</td>\n",
              "      <td>PROCEEDINGS OF THE 7TH INTERNATIONAL CONFERENC...</td>\n",
              "      <td>...</td>\n",
              "      <td>NaN</td>\n",
              "      <td>Computer Science</td>\n",
              "      <td>NaN</td>\n",
              "      <td>NaN</td>\n",
              "      <td>NaN</td>\n",
              "      <td>NaN</td>\n",
              "      <td>NaN</td>\n",
              "      <td>NaN</td>\n",
              "      <td>NaN</td>\n",
              "      <td>View Full Record in Web of Science</td>\n",
              "    </tr>\n",
              "    <tr>\n",
              "      <th>4</th>\n",
              "      <td>J</td>\n",
              "      <td>Jiang, N</td>\n",
              "      <td>NaN</td>\n",
              "      <td>NaN</td>\n",
              "      <td>NaN</td>\n",
              "      <td>Jiang, Nan</td>\n",
              "      <td>NaN</td>\n",
              "      <td>NaN</td>\n",
              "      <td>Smart Home Product Layout Design Method Based ...</td>\n",
              "      <td>COMPUTATIONAL INTELLIGENCE AND NEUROSCIENCE</td>\n",
              "      <td>...</td>\n",
              "      <td>NaN</td>\n",
              "      <td>Mathematical &amp; Computational Biology; Neurosci...</td>\n",
              "      <td>NaN</td>\n",
              "      <td>NaN</td>\n",
              "      <td>NaN</td>\n",
              "      <td>NaN</td>\n",
              "      <td>NaN</td>\n",
              "      <td>NaN</td>\n",
              "      <td>NaN</td>\n",
              "      <td>View Full Record in Web of Science</td>\n",
              "    </tr>\n",
              "  </tbody>\n",
              "</table>\n",
              "<p>5 rows × 72 columns</p>\n",
              "</div>\n",
              "      <button class=\"colab-df-convert\" onclick=\"convertToInteractive('df-027b2ead-1c73-436d-9070-84569cfc3aa2')\"\n",
              "              title=\"Convert this dataframe to an interactive table.\"\n",
              "              style=\"display:none;\">\n",
              "        \n",
              "  <svg xmlns=\"http://www.w3.org/2000/svg\" height=\"24px\"viewBox=\"0 0 24 24\"\n",
              "       width=\"24px\">\n",
              "    <path d=\"M0 0h24v24H0V0z\" fill=\"none\"/>\n",
              "    <path d=\"M18.56 5.44l.94 2.06.94-2.06 2.06-.94-2.06-.94-.94-2.06-.94 2.06-2.06.94zm-11 1L8.5 8.5l.94-2.06 2.06-.94-2.06-.94L8.5 2.5l-.94 2.06-2.06.94zm10 10l.94 2.06.94-2.06 2.06-.94-2.06-.94-.94-2.06-.94 2.06-2.06.94z\"/><path d=\"M17.41 7.96l-1.37-1.37c-.4-.4-.92-.59-1.43-.59-.52 0-1.04.2-1.43.59L10.3 9.45l-7.72 7.72c-.78.78-.78 2.05 0 2.83L4 21.41c.39.39.9.59 1.41.59.51 0 1.02-.2 1.41-.59l7.78-7.78 2.81-2.81c.8-.78.8-2.07 0-2.86zM5.41 20L4 18.59l7.72-7.72 1.47 1.35L5.41 20z\"/>\n",
              "  </svg>\n",
              "      </button>\n",
              "      \n",
              "  <style>\n",
              "    .colab-df-container {\n",
              "      display:flex;\n",
              "      flex-wrap:wrap;\n",
              "      gap: 12px;\n",
              "    }\n",
              "\n",
              "    .colab-df-convert {\n",
              "      background-color: #E8F0FE;\n",
              "      border: none;\n",
              "      border-radius: 50%;\n",
              "      cursor: pointer;\n",
              "      display: none;\n",
              "      fill: #1967D2;\n",
              "      height: 32px;\n",
              "      padding: 0 0 0 0;\n",
              "      width: 32px;\n",
              "    }\n",
              "\n",
              "    .colab-df-convert:hover {\n",
              "      background-color: #E2EBFA;\n",
              "      box-shadow: 0px 1px 2px rgba(60, 64, 67, 0.3), 0px 1px 3px 1px rgba(60, 64, 67, 0.15);\n",
              "      fill: #174EA6;\n",
              "    }\n",
              "\n",
              "    [theme=dark] .colab-df-convert {\n",
              "      background-color: #3B4455;\n",
              "      fill: #D2E3FC;\n",
              "    }\n",
              "\n",
              "    [theme=dark] .colab-df-convert:hover {\n",
              "      background-color: #434B5C;\n",
              "      box-shadow: 0px 1px 3px 1px rgba(0, 0, 0, 0.15);\n",
              "      filter: drop-shadow(0px 1px 2px rgba(0, 0, 0, 0.3));\n",
              "      fill: #FFFFFF;\n",
              "    }\n",
              "  </style>\n",
              "\n",
              "      <script>\n",
              "        const buttonEl =\n",
              "          document.querySelector('#df-027b2ead-1c73-436d-9070-84569cfc3aa2 button.colab-df-convert');\n",
              "        buttonEl.style.display =\n",
              "          google.colab.kernel.accessAllowed ? 'block' : 'none';\n",
              "\n",
              "        async function convertToInteractive(key) {\n",
              "          const element = document.querySelector('#df-027b2ead-1c73-436d-9070-84569cfc3aa2');\n",
              "          const dataTable =\n",
              "            await google.colab.kernel.invokeFunction('convertToInteractive',\n",
              "                                                     [key], {});\n",
              "          if (!dataTable) return;\n",
              "\n",
              "          const docLinkHtml = 'Like what you see? Visit the ' +\n",
              "            '<a target=\"_blank\" href=https://colab.research.google.com/notebooks/data_table.ipynb>data table notebook</a>'\n",
              "            + ' to learn more about interactive tables.';\n",
              "          element.innerHTML = '';\n",
              "          dataTable['output_type'] = 'display_data';\n",
              "          await google.colab.output.renderOutput(dataTable, element);\n",
              "          const docLink = document.createElement('div');\n",
              "          docLink.innerHTML = docLinkHtml;\n",
              "          element.appendChild(docLink);\n",
              "        }\n",
              "      </script>\n",
              "    </div>\n",
              "  </div>\n",
              "  "
            ]
          },
          "metadata": {},
          "execution_count": 16
        }
      ],
      "source": [
        "df = pd.read_csv(file1)\n",
        "df.head()"
      ]
    },
    {
      "cell_type": "code",
      "source": [
        "df =  df[['Abstract']]"
      ],
      "metadata": {
        "id": "6OW7xTDMGO5J"
      },
      "id": "6OW7xTDMGO5J",
      "execution_count": 17,
      "outputs": []
    },
    {
      "cell_type": "markdown",
      "id": "present-timer",
      "metadata": {
        "id": "present-timer"
      },
      "source": [
        "# Data processing\n",
        "- convert to text\n",
        "- save to dataframe"
      ]
    },
    {
      "cell_type": "code",
      "source": [
        "df.head()"
      ],
      "metadata": {
        "colab": {
          "base_uri": "https://localhost:8080/",
          "height": 204
        },
        "id": "mHKHlCnQGdzy",
        "outputId": "2bbaff6c-cd79-4d2c-ae18-69f9cf7c5180"
      },
      "id": "mHKHlCnQGdzy",
      "execution_count": 18,
      "outputs": [
        {
          "output_type": "execute_result",
          "data": {
            "text/plain": [
              "                                            Abstract\n",
              "0  Recently, smart home products have shown signs...\n",
              "1  This paper is a survey for smart home research...\n",
              "2  Smart Home is one of emerging application doma...\n",
              "3  This paper presents an analytical review about...\n",
              "4  Aiming at the problems of poor layout design e..."
            ],
            "text/html": [
              "\n",
              "  <div id=\"df-920228b7-d8b8-4dd0-9d4b-fc6cd198514e\">\n",
              "    <div class=\"colab-df-container\">\n",
              "      <div>\n",
              "<style scoped>\n",
              "    .dataframe tbody tr th:only-of-type {\n",
              "        vertical-align: middle;\n",
              "    }\n",
              "\n",
              "    .dataframe tbody tr th {\n",
              "        vertical-align: top;\n",
              "    }\n",
              "\n",
              "    .dataframe thead th {\n",
              "        text-align: right;\n",
              "    }\n",
              "</style>\n",
              "<table border=\"1\" class=\"dataframe\">\n",
              "  <thead>\n",
              "    <tr style=\"text-align: right;\">\n",
              "      <th></th>\n",
              "      <th>Abstract</th>\n",
              "    </tr>\n",
              "  </thead>\n",
              "  <tbody>\n",
              "    <tr>\n",
              "      <th>0</th>\n",
              "      <td>Recently, smart home products have shown signs...</td>\n",
              "    </tr>\n",
              "    <tr>\n",
              "      <th>1</th>\n",
              "      <td>This paper is a survey for smart home research...</td>\n",
              "    </tr>\n",
              "    <tr>\n",
              "      <th>2</th>\n",
              "      <td>Smart Home is one of emerging application doma...</td>\n",
              "    </tr>\n",
              "    <tr>\n",
              "      <th>3</th>\n",
              "      <td>This paper presents an analytical review about...</td>\n",
              "    </tr>\n",
              "    <tr>\n",
              "      <th>4</th>\n",
              "      <td>Aiming at the problems of poor layout design e...</td>\n",
              "    </tr>\n",
              "  </tbody>\n",
              "</table>\n",
              "</div>\n",
              "      <button class=\"colab-df-convert\" onclick=\"convertToInteractive('df-920228b7-d8b8-4dd0-9d4b-fc6cd198514e')\"\n",
              "              title=\"Convert this dataframe to an interactive table.\"\n",
              "              style=\"display:none;\">\n",
              "        \n",
              "  <svg xmlns=\"http://www.w3.org/2000/svg\" height=\"24px\"viewBox=\"0 0 24 24\"\n",
              "       width=\"24px\">\n",
              "    <path d=\"M0 0h24v24H0V0z\" fill=\"none\"/>\n",
              "    <path d=\"M18.56 5.44l.94 2.06.94-2.06 2.06-.94-2.06-.94-.94-2.06-.94 2.06-2.06.94zm-11 1L8.5 8.5l.94-2.06 2.06-.94-2.06-.94L8.5 2.5l-.94 2.06-2.06.94zm10 10l.94 2.06.94-2.06 2.06-.94-2.06-.94-.94-2.06-.94 2.06-2.06.94z\"/><path d=\"M17.41 7.96l-1.37-1.37c-.4-.4-.92-.59-1.43-.59-.52 0-1.04.2-1.43.59L10.3 9.45l-7.72 7.72c-.78.78-.78 2.05 0 2.83L4 21.41c.39.39.9.59 1.41.59.51 0 1.02-.2 1.41-.59l7.78-7.78 2.81-2.81c.8-.78.8-2.07 0-2.86zM5.41 20L4 18.59l7.72-7.72 1.47 1.35L5.41 20z\"/>\n",
              "  </svg>\n",
              "      </button>\n",
              "      \n",
              "  <style>\n",
              "    .colab-df-container {\n",
              "      display:flex;\n",
              "      flex-wrap:wrap;\n",
              "      gap: 12px;\n",
              "    }\n",
              "\n",
              "    .colab-df-convert {\n",
              "      background-color: #E8F0FE;\n",
              "      border: none;\n",
              "      border-radius: 50%;\n",
              "      cursor: pointer;\n",
              "      display: none;\n",
              "      fill: #1967D2;\n",
              "      height: 32px;\n",
              "      padding: 0 0 0 0;\n",
              "      width: 32px;\n",
              "    }\n",
              "\n",
              "    .colab-df-convert:hover {\n",
              "      background-color: #E2EBFA;\n",
              "      box-shadow: 0px 1px 2px rgba(60, 64, 67, 0.3), 0px 1px 3px 1px rgba(60, 64, 67, 0.15);\n",
              "      fill: #174EA6;\n",
              "    }\n",
              "\n",
              "    [theme=dark] .colab-df-convert {\n",
              "      background-color: #3B4455;\n",
              "      fill: #D2E3FC;\n",
              "    }\n",
              "\n",
              "    [theme=dark] .colab-df-convert:hover {\n",
              "      background-color: #434B5C;\n",
              "      box-shadow: 0px 1px 3px 1px rgba(0, 0, 0, 0.15);\n",
              "      filter: drop-shadow(0px 1px 2px rgba(0, 0, 0, 0.3));\n",
              "      fill: #FFFFFF;\n",
              "    }\n",
              "  </style>\n",
              "\n",
              "      <script>\n",
              "        const buttonEl =\n",
              "          document.querySelector('#df-920228b7-d8b8-4dd0-9d4b-fc6cd198514e button.colab-df-convert');\n",
              "        buttonEl.style.display =\n",
              "          google.colab.kernel.accessAllowed ? 'block' : 'none';\n",
              "\n",
              "        async function convertToInteractive(key) {\n",
              "          const element = document.querySelector('#df-920228b7-d8b8-4dd0-9d4b-fc6cd198514e');\n",
              "          const dataTable =\n",
              "            await google.colab.kernel.invokeFunction('convertToInteractive',\n",
              "                                                     [key], {});\n",
              "          if (!dataTable) return;\n",
              "\n",
              "          const docLinkHtml = 'Like what you see? Visit the ' +\n",
              "            '<a target=\"_blank\" href=https://colab.research.google.com/notebooks/data_table.ipynb>data table notebook</a>'\n",
              "            + ' to learn more about interactive tables.';\n",
              "          element.innerHTML = '';\n",
              "          dataTable['output_type'] = 'display_data';\n",
              "          await google.colab.output.renderOutput(dataTable, element);\n",
              "          const docLink = document.createElement('div');\n",
              "          docLink.innerHTML = docLinkHtml;\n",
              "          element.appendChild(docLink);\n",
              "        }\n",
              "      </script>\n",
              "    </div>\n",
              "  </div>\n",
              "  "
            ]
          },
          "metadata": {},
          "execution_count": 18
        }
      ]
    },
    {
      "cell_type": "code",
      "execution_count": 19,
      "id": "adequate-wallpaper",
      "metadata": {
        "colab": {
          "base_uri": "https://localhost:8080/"
        },
        "id": "adequate-wallpaper",
        "outputId": "49c032a6-9618-4c00-909f-1ea3acdeb07c"
      },
      "outputs": [
        {
          "output_type": "execute_result",
          "data": {
            "text/plain": [
              "7059"
            ]
          },
          "metadata": {},
          "execution_count": 19
        }
      ],
      "source": [
        "len(df)"
      ]
    },
    {
      "cell_type": "markdown",
      "id": "frequent-national",
      "metadata": {
        "id": "frequent-national"
      },
      "source": [
        "# Text cleaning"
      ]
    },
    {
      "cell_type": "code",
      "execution_count": 20,
      "id": "registered-stopping",
      "metadata": {
        "id": "registered-stopping"
      },
      "outputs": [],
      "source": [
        "# Load the regular expression library\n",
        "import re"
      ]
    },
    {
      "cell_type": "code",
      "execution_count": 22,
      "id": "searching-notebook",
      "metadata": {
        "colab": {
          "base_uri": "https://localhost:8080/",
          "height": 204
        },
        "id": "searching-notebook",
        "outputId": "537b0031-d7b5-48fe-fe0b-e13cf450321a"
      },
      "outputs": [
        {
          "output_type": "execute_result",
          "data": {
            "text/plain": [
              "                                            Abstract  \\\n",
              "0  Recently, smart home products have shown signs...   \n",
              "1  This paper is a survey for smart home research...   \n",
              "2  Smart Home is one of emerging application doma...   \n",
              "3  This paper presents an analytical review about...   \n",
              "4  Aiming at the problems of poor layout design e...   \n",
              "\n",
              "                                      text_processed  \n",
              "0  recently, smart home products have shown signs...  \n",
              "1  this paper is a survey for smart home research...  \n",
              "2  smart home is one of emerging application doma...  \n",
              "3  this paper presents an analytical review about...  \n",
              "4  aiming at the problems of poor layout design e...  "
            ],
            "text/html": [
              "\n",
              "  <div id=\"df-ea85623b-8062-439b-9544-f7915535f099\">\n",
              "    <div class=\"colab-df-container\">\n",
              "      <div>\n",
              "<style scoped>\n",
              "    .dataframe tbody tr th:only-of-type {\n",
              "        vertical-align: middle;\n",
              "    }\n",
              "\n",
              "    .dataframe tbody tr th {\n",
              "        vertical-align: top;\n",
              "    }\n",
              "\n",
              "    .dataframe thead th {\n",
              "        text-align: right;\n",
              "    }\n",
              "</style>\n",
              "<table border=\"1\" class=\"dataframe\">\n",
              "  <thead>\n",
              "    <tr style=\"text-align: right;\">\n",
              "      <th></th>\n",
              "      <th>Abstract</th>\n",
              "      <th>text_processed</th>\n",
              "    </tr>\n",
              "  </thead>\n",
              "  <tbody>\n",
              "    <tr>\n",
              "      <th>0</th>\n",
              "      <td>Recently, smart home products have shown signs...</td>\n",
              "      <td>recently, smart home products have shown signs...</td>\n",
              "    </tr>\n",
              "    <tr>\n",
              "      <th>1</th>\n",
              "      <td>This paper is a survey for smart home research...</td>\n",
              "      <td>this paper is a survey for smart home research...</td>\n",
              "    </tr>\n",
              "    <tr>\n",
              "      <th>2</th>\n",
              "      <td>Smart Home is one of emerging application doma...</td>\n",
              "      <td>smart home is one of emerging application doma...</td>\n",
              "    </tr>\n",
              "    <tr>\n",
              "      <th>3</th>\n",
              "      <td>This paper presents an analytical review about...</td>\n",
              "      <td>this paper presents an analytical review about...</td>\n",
              "    </tr>\n",
              "    <tr>\n",
              "      <th>4</th>\n",
              "      <td>Aiming at the problems of poor layout design e...</td>\n",
              "      <td>aiming at the problems of poor layout design e...</td>\n",
              "    </tr>\n",
              "  </tbody>\n",
              "</table>\n",
              "</div>\n",
              "      <button class=\"colab-df-convert\" onclick=\"convertToInteractive('df-ea85623b-8062-439b-9544-f7915535f099')\"\n",
              "              title=\"Convert this dataframe to an interactive table.\"\n",
              "              style=\"display:none;\">\n",
              "        \n",
              "  <svg xmlns=\"http://www.w3.org/2000/svg\" height=\"24px\"viewBox=\"0 0 24 24\"\n",
              "       width=\"24px\">\n",
              "    <path d=\"M0 0h24v24H0V0z\" fill=\"none\"/>\n",
              "    <path d=\"M18.56 5.44l.94 2.06.94-2.06 2.06-.94-2.06-.94-.94-2.06-.94 2.06-2.06.94zm-11 1L8.5 8.5l.94-2.06 2.06-.94-2.06-.94L8.5 2.5l-.94 2.06-2.06.94zm10 10l.94 2.06.94-2.06 2.06-.94-2.06-.94-.94-2.06-.94 2.06-2.06.94z\"/><path d=\"M17.41 7.96l-1.37-1.37c-.4-.4-.92-.59-1.43-.59-.52 0-1.04.2-1.43.59L10.3 9.45l-7.72 7.72c-.78.78-.78 2.05 0 2.83L4 21.41c.39.39.9.59 1.41.59.51 0 1.02-.2 1.41-.59l7.78-7.78 2.81-2.81c.8-.78.8-2.07 0-2.86zM5.41 20L4 18.59l7.72-7.72 1.47 1.35L5.41 20z\"/>\n",
              "  </svg>\n",
              "      </button>\n",
              "      \n",
              "  <style>\n",
              "    .colab-df-container {\n",
              "      display:flex;\n",
              "      flex-wrap:wrap;\n",
              "      gap: 12px;\n",
              "    }\n",
              "\n",
              "    .colab-df-convert {\n",
              "      background-color: #E8F0FE;\n",
              "      border: none;\n",
              "      border-radius: 50%;\n",
              "      cursor: pointer;\n",
              "      display: none;\n",
              "      fill: #1967D2;\n",
              "      height: 32px;\n",
              "      padding: 0 0 0 0;\n",
              "      width: 32px;\n",
              "    }\n",
              "\n",
              "    .colab-df-convert:hover {\n",
              "      background-color: #E2EBFA;\n",
              "      box-shadow: 0px 1px 2px rgba(60, 64, 67, 0.3), 0px 1px 3px 1px rgba(60, 64, 67, 0.15);\n",
              "      fill: #174EA6;\n",
              "    }\n",
              "\n",
              "    [theme=dark] .colab-df-convert {\n",
              "      background-color: #3B4455;\n",
              "      fill: #D2E3FC;\n",
              "    }\n",
              "\n",
              "    [theme=dark] .colab-df-convert:hover {\n",
              "      background-color: #434B5C;\n",
              "      box-shadow: 0px 1px 3px 1px rgba(0, 0, 0, 0.15);\n",
              "      filter: drop-shadow(0px 1px 2px rgba(0, 0, 0, 0.3));\n",
              "      fill: #FFFFFF;\n",
              "    }\n",
              "  </style>\n",
              "\n",
              "      <script>\n",
              "        const buttonEl =\n",
              "          document.querySelector('#df-ea85623b-8062-439b-9544-f7915535f099 button.colab-df-convert');\n",
              "        buttonEl.style.display =\n",
              "          google.colab.kernel.accessAllowed ? 'block' : 'none';\n",
              "\n",
              "        async function convertToInteractive(key) {\n",
              "          const element = document.querySelector('#df-ea85623b-8062-439b-9544-f7915535f099');\n",
              "          const dataTable =\n",
              "            await google.colab.kernel.invokeFunction('convertToInteractive',\n",
              "                                                     [key], {});\n",
              "          if (!dataTable) return;\n",
              "\n",
              "          const docLinkHtml = 'Like what you see? Visit the ' +\n",
              "            '<a target=\"_blank\" href=https://colab.research.google.com/notebooks/data_table.ipynb>data table notebook</a>'\n",
              "            + ' to learn more about interactive tables.';\n",
              "          element.innerHTML = '';\n",
              "          dataTable['output_type'] = 'display_data';\n",
              "          await google.colab.output.renderOutput(dataTable, element);\n",
              "          const docLink = document.createElement('div');\n",
              "          docLink.innerHTML = docLinkHtml;\n",
              "          element.appendChild(docLink);\n",
              "        }\n",
              "      </script>\n",
              "    </div>\n",
              "  </div>\n",
              "  "
            ]
          },
          "metadata": {},
          "execution_count": 22
        }
      ],
      "source": [
        "\n",
        "# Convert the titles to lowercase\n",
        "df['text_processed'] = \\\n",
        "df['text_processed'] = df['Abstract'].apply(lambda x: x.lower())\n",
        "df['text_processed'] = df['text_processed'].apply(lambda x: re.sub(r'\\w*\\d\\w*', '', x).strip())\n",
        "df['text_processed'] = df['text_processed'].apply(lambda x: re.sub(r'[0-9]', ' ', x))\n",
        "\n",
        "\n",
        "# Print out the first rows of papers\n",
        "df.head()"
      ]
    },
    {
      "cell_type": "code",
      "execution_count": 23,
      "id": "departmental-virginia",
      "metadata": {
        "colab": {
          "base_uri": "https://localhost:8080/",
          "height": 204
        },
        "id": "departmental-virginia",
        "outputId": "a9354a4f-d649-43d4-f383-534210d454a2"
      },
      "outputs": [
        {
          "output_type": "execute_result",
          "data": {
            "text/plain": [
              "                                      text_processed\n",
              "0  recently, smart home products have shown signs...\n",
              "1  this paper is a survey for smart home research...\n",
              "2  smart home is one of emerging application doma...\n",
              "3  this paper presents an analytical review about...\n",
              "4  aiming at the problems of poor layout design e..."
            ],
            "text/html": [
              "\n",
              "  <div id=\"df-2d038493-158a-4783-a3a8-cad61dbba2d3\">\n",
              "    <div class=\"colab-df-container\">\n",
              "      <div>\n",
              "<style scoped>\n",
              "    .dataframe tbody tr th:only-of-type {\n",
              "        vertical-align: middle;\n",
              "    }\n",
              "\n",
              "    .dataframe tbody tr th {\n",
              "        vertical-align: top;\n",
              "    }\n",
              "\n",
              "    .dataframe thead th {\n",
              "        text-align: right;\n",
              "    }\n",
              "</style>\n",
              "<table border=\"1\" class=\"dataframe\">\n",
              "  <thead>\n",
              "    <tr style=\"text-align: right;\">\n",
              "      <th></th>\n",
              "      <th>text_processed</th>\n",
              "    </tr>\n",
              "  </thead>\n",
              "  <tbody>\n",
              "    <tr>\n",
              "      <th>0</th>\n",
              "      <td>recently, smart home products have shown signs...</td>\n",
              "    </tr>\n",
              "    <tr>\n",
              "      <th>1</th>\n",
              "      <td>this paper is a survey for smart home research...</td>\n",
              "    </tr>\n",
              "    <tr>\n",
              "      <th>2</th>\n",
              "      <td>smart home is one of emerging application doma...</td>\n",
              "    </tr>\n",
              "    <tr>\n",
              "      <th>3</th>\n",
              "      <td>this paper presents an analytical review about...</td>\n",
              "    </tr>\n",
              "    <tr>\n",
              "      <th>4</th>\n",
              "      <td>aiming at the problems of poor layout design e...</td>\n",
              "    </tr>\n",
              "  </tbody>\n",
              "</table>\n",
              "</div>\n",
              "      <button class=\"colab-df-convert\" onclick=\"convertToInteractive('df-2d038493-158a-4783-a3a8-cad61dbba2d3')\"\n",
              "              title=\"Convert this dataframe to an interactive table.\"\n",
              "              style=\"display:none;\">\n",
              "        \n",
              "  <svg xmlns=\"http://www.w3.org/2000/svg\" height=\"24px\"viewBox=\"0 0 24 24\"\n",
              "       width=\"24px\">\n",
              "    <path d=\"M0 0h24v24H0V0z\" fill=\"none\"/>\n",
              "    <path d=\"M18.56 5.44l.94 2.06.94-2.06 2.06-.94-2.06-.94-.94-2.06-.94 2.06-2.06.94zm-11 1L8.5 8.5l.94-2.06 2.06-.94-2.06-.94L8.5 2.5l-.94 2.06-2.06.94zm10 10l.94 2.06.94-2.06 2.06-.94-2.06-.94-.94-2.06-.94 2.06-2.06.94z\"/><path d=\"M17.41 7.96l-1.37-1.37c-.4-.4-.92-.59-1.43-.59-.52 0-1.04.2-1.43.59L10.3 9.45l-7.72 7.72c-.78.78-.78 2.05 0 2.83L4 21.41c.39.39.9.59 1.41.59.51 0 1.02-.2 1.41-.59l7.78-7.78 2.81-2.81c.8-.78.8-2.07 0-2.86zM5.41 20L4 18.59l7.72-7.72 1.47 1.35L5.41 20z\"/>\n",
              "  </svg>\n",
              "      </button>\n",
              "      \n",
              "  <style>\n",
              "    .colab-df-container {\n",
              "      display:flex;\n",
              "      flex-wrap:wrap;\n",
              "      gap: 12px;\n",
              "    }\n",
              "\n",
              "    .colab-df-convert {\n",
              "      background-color: #E8F0FE;\n",
              "      border: none;\n",
              "      border-radius: 50%;\n",
              "      cursor: pointer;\n",
              "      display: none;\n",
              "      fill: #1967D2;\n",
              "      height: 32px;\n",
              "      padding: 0 0 0 0;\n",
              "      width: 32px;\n",
              "    }\n",
              "\n",
              "    .colab-df-convert:hover {\n",
              "      background-color: #E2EBFA;\n",
              "      box-shadow: 0px 1px 2px rgba(60, 64, 67, 0.3), 0px 1px 3px 1px rgba(60, 64, 67, 0.15);\n",
              "      fill: #174EA6;\n",
              "    }\n",
              "\n",
              "    [theme=dark] .colab-df-convert {\n",
              "      background-color: #3B4455;\n",
              "      fill: #D2E3FC;\n",
              "    }\n",
              "\n",
              "    [theme=dark] .colab-df-convert:hover {\n",
              "      background-color: #434B5C;\n",
              "      box-shadow: 0px 1px 3px 1px rgba(0, 0, 0, 0.15);\n",
              "      filter: drop-shadow(0px 1px 2px rgba(0, 0, 0, 0.3));\n",
              "      fill: #FFFFFF;\n",
              "    }\n",
              "  </style>\n",
              "\n",
              "      <script>\n",
              "        const buttonEl =\n",
              "          document.querySelector('#df-2d038493-158a-4783-a3a8-cad61dbba2d3 button.colab-df-convert');\n",
              "        buttonEl.style.display =\n",
              "          google.colab.kernel.accessAllowed ? 'block' : 'none';\n",
              "\n",
              "        async function convertToInteractive(key) {\n",
              "          const element = document.querySelector('#df-2d038493-158a-4783-a3a8-cad61dbba2d3');\n",
              "          const dataTable =\n",
              "            await google.colab.kernel.invokeFunction('convertToInteractive',\n",
              "                                                     [key], {});\n",
              "          if (!dataTable) return;\n",
              "\n",
              "          const docLinkHtml = 'Like what you see? Visit the ' +\n",
              "            '<a target=\"_blank\" href=https://colab.research.google.com/notebooks/data_table.ipynb>data table notebook</a>'\n",
              "            + ' to learn more about interactive tables.';\n",
              "          element.innerHTML = '';\n",
              "          dataTable['output_type'] = 'display_data';\n",
              "          await google.colab.output.renderOutput(dataTable, element);\n",
              "          const docLink = document.createElement('div');\n",
              "          docLink.innerHTML = docLinkHtml;\n",
              "          element.appendChild(docLink);\n",
              "        }\n",
              "      </script>\n",
              "    </div>\n",
              "  </div>\n",
              "  "
            ]
          },
          "metadata": {},
          "execution_count": 23
        }
      ],
      "source": [
        "df_save = df[['text_processed']]\n",
        "df_save.head()"
      ]
    },
    {
      "cell_type": "code",
      "execution_count": 25,
      "id": "e0cd4a4a",
      "metadata": {
        "id": "e0cd4a4a"
      },
      "outputs": [],
      "source": [
        "df_save.to_csv('wos_clean.csv', index=False)"
      ]
    },
    {
      "cell_type": "markdown",
      "id": "dirty-session",
      "metadata": {
        "id": "dirty-session"
      },
      "source": [
        "# Create word cloud"
      ]
    },
    {
      "cell_type": "code",
      "execution_count": 33,
      "id": "normal-welsh",
      "metadata": {
        "colab": {
          "base_uri": "https://localhost:8080/",
          "height": 217
        },
        "id": "normal-welsh",
        "outputId": "725044a1-91b6-4a13-86d3-9a57ca82a8cc"
      },
      "outputs": [
        {
          "output_type": "execute_result",
          "data": {
            "text/plain": [
              "<PIL.Image.Image image mode=RGB size=400x200 at 0x7F7C8AB2AA90>"
            ],
            "image/png": "[encoded data removed]"
          },
          "metadata": {},
          "execution_count": 33
        }
      ],
      "source": [
        "# Import the wordcloud library\n",
        "from wordcloud import WordCloud\n",
        "\n",
        "# Join the different processed titles together.\n",
        "long_string = ','.join(list(df_save['text_processed'].values))\n",
        "\n",
        "# Create a WordCloud object\n",
        "wordcloud = WordCloud(background_color=\"white\", max_words=1000, contour_width=3, contour_color='steelblue')\n",
        "\n",
        "# Generate a word cloud\n",
        "wordcloud.generate(long_string)\n",
        "\n",
        "# Visualize the word cloud\n",
        "wordcloud.to_image()"
      ]
    },
    {
      "cell_type": "markdown",
      "id": "supreme-amount",
      "metadata": {
        "id": "supreme-amount"
      },
      "source": [
        "# Remove frequent words"
      ]
    },
    {
      "cell_type": "code",
      "execution_count": 34,
      "id": "considered-advisory",
      "metadata": {
        "colab": {
          "base_uri": "https://localhost:8080/"
        },
        "id": "considered-advisory",
        "outputId": "ee914bed-fc0a-409c-90ed-1c5f2cf2a1bb"
      },
      "outputs": [
        {
          "output_type": "stream",
          "name": "stderr",
          "text": [
            "[nltk_data] Downloading package stopwords to /root/nltk_data...\n",
            "[nltk_data]   Package stopwords is already up-to-date!\n"
          ]
        }
      ],
      "source": [
        "import gensim\n",
        "from gensim.utils import simple_preprocess\n",
        "import nltk\n",
        "nltk.download('stopwords')\n",
        "from nltk.corpus import stopwords\n",
        "\n",
        "stop_words = stopwords.words('english')\n",
        "stop_words.extend(['from', 'subject', 're', 'edu', 'use', 'volume', 'issue', 'english', 'elsevier', 'proquest'])\n",
        "\n",
        "def sent_to_words(sentences):\n",
        "    for sentence in sentences:\n",
        "        # deacc=True removes punctuations\n",
        "        yield(gensim.utils.simple_preprocess(str(sentence), deacc=True))\n",
        "\n",
        "def remove_stopwords(texts):\n",
        "    return [[word for word in simple_preprocess(str(doc)) \n",
        "             if word not in stop_words] for doc in texts]"
      ]
    },
    {
      "cell_type": "code",
      "execution_count": 35,
      "id": "convenient-politics",
      "metadata": {
        "colab": {
          "base_uri": "https://localhost:8080/"
        },
        "id": "convenient-politics",
        "outputId": "5e528cb3-67c1-4b9e-e8f9-0c6184cca973"
      },
      "outputs": [
        {
          "output_type": "stream",
          "name": "stdout",
          "text": [
            "['recently', 'smart', 'home', 'products', 'shown', 'signs', 'rapid', 'development', 'increasing', 'awareness', 'smart', 'home', 'platforms', 'order', 'make', 'smart', 'home', 'enterprises', 'enter', 'era', 'smart', 'home', 'necessary', 'consider', 'elements', 'related', 'smart', 'home', 'platforms', 'study']\n"
          ]
        }
      ],
      "source": [
        "# here we convert all cells from our dataframe into lists of words\n",
        "\n",
        "data = df_save.text_processed.values.tolist()\n",
        "data_words = list(sent_to_words(data))\n",
        "\n",
        "# remove stop words\n",
        "data_words = remove_stopwords(data_words)\n",
        "\n",
        "print(data_words[:1][0][:30])"
      ]
    },
    {
      "cell_type": "code",
      "execution_count": 36,
      "id": "dc1eecb4",
      "metadata": {
        "colab": {
          "base_uri": "https://localhost:8080/"
        },
        "id": "dc1eecb4",
        "outputId": "2051d2a2-65a1-4821-8b88-64556340c88d"
      },
      "outputs": [
        {
          "output_type": "execute_result",
          "data": {
            "text/plain": [
              "7059"
            ]
          },
          "metadata": {},
          "execution_count": 36
        }
      ],
      "source": [
        "# check that we have the same number of articles\n",
        "len(data_words)"
      ]
    },
    {
      "cell_type": "code",
      "execution_count": 37,
      "id": "2c262332",
      "metadata": {
        "colab": {
          "base_uri": "https://localhost:8080/",
          "height": 204
        },
        "id": "2c262332",
        "outputId": "cf2ea73c-21c0-41ca-d1bc-bc5cb126299d"
      },
      "outputs": [
        {
          "output_type": "execute_result",
          "data": {
            "text/plain": [
              "                                                 col\n",
              "0  recently smart home products shown signs rapid...\n",
              "1  paper survey smart home research definition cu...\n",
              "2  smart home one emerging application domains in...\n",
              "3  paper presents analytical review smart home ne...\n",
              "4  aiming problems poor layout design efficiency ..."
            ],
            "text/html": [
              "\n",
              "  <div id=\"df-b814d3ee-19e9-41c6-bf0d-e298f14d137a\">\n",
              "    <div class=\"colab-df-container\">\n",
              "      <div>\n",
              "<style scoped>\n",
              "    .dataframe tbody tr th:only-of-type {\n",
              "        vertical-align: middle;\n",
              "    }\n",
              "\n",
              "    .dataframe tbody tr th {\n",
              "        vertical-align: top;\n",
              "    }\n",
              "\n",
              "    .dataframe thead th {\n",
              "        text-align: right;\n",
              "    }\n",
              "</style>\n",
              "<table border=\"1\" class=\"dataframe\">\n",
              "  <thead>\n",
              "    <tr style=\"text-align: right;\">\n",
              "      <th></th>\n",
              "      <th>col</th>\n",
              "    </tr>\n",
              "  </thead>\n",
              "  <tbody>\n",
              "    <tr>\n",
              "      <th>0</th>\n",
              "      <td>recently smart home products shown signs rapid...</td>\n",
              "    </tr>\n",
              "    <tr>\n",
              "      <th>1</th>\n",
              "      <td>paper survey smart home research definition cu...</td>\n",
              "    </tr>\n",
              "    <tr>\n",
              "      <th>2</th>\n",
              "      <td>smart home one emerging application domains in...</td>\n",
              "    </tr>\n",
              "    <tr>\n",
              "      <th>3</th>\n",
              "      <td>paper presents analytical review smart home ne...</td>\n",
              "    </tr>\n",
              "    <tr>\n",
              "      <th>4</th>\n",
              "      <td>aiming problems poor layout design efficiency ...</td>\n",
              "    </tr>\n",
              "  </tbody>\n",
              "</table>\n",
              "</div>\n",
              "      <button class=\"colab-df-convert\" onclick=\"convertToInteractive('df-b814d3ee-19e9-41c6-bf0d-e298f14d137a')\"\n",
              "              title=\"Convert this dataframe to an interactive table.\"\n",
              "              style=\"display:none;\">\n",
              "        \n",
              "  <svg xmlns=\"http://www.w3.org/2000/svg\" height=\"24px\"viewBox=\"0 0 24 24\"\n",
              "       width=\"24px\">\n",
              "    <path d=\"M0 0h24v24H0V0z\" fill=\"none\"/>\n",
              "    <path d=\"M18.56 5.44l.94 2.06.94-2.06 2.06-.94-2.06-.94-.94-2.06-.94 2.06-2.06.94zm-11 1L8.5 8.5l.94-2.06 2.06-.94-2.06-.94L8.5 2.5l-.94 2.06-2.06.94zm10 10l.94 2.06.94-2.06 2.06-.94-2.06-.94-.94-2.06-.94 2.06-2.06.94z\"/><path d=\"M17.41 7.96l-1.37-1.37c-.4-.4-.92-.59-1.43-.59-.52 0-1.04.2-1.43.59L10.3 9.45l-7.72 7.72c-.78.78-.78 2.05 0 2.83L4 21.41c.39.39.9.59 1.41.59.51 0 1.02-.2 1.41-.59l7.78-7.78 2.81-2.81c.8-.78.8-2.07 0-2.86zM5.41 20L4 18.59l7.72-7.72 1.47 1.35L5.41 20z\"/>\n",
              "  </svg>\n",
              "      </button>\n",
              "      \n",
              "  <style>\n",
              "    .colab-df-container {\n",
              "      display:flex;\n",
              "      flex-wrap:wrap;\n",
              "      gap: 12px;\n",
              "    }\n",
              "\n",
              "    .colab-df-convert {\n",
              "      background-color: #E8F0FE;\n",
              "      border: none;\n",
              "      border-radius: 50%;\n",
              "      cursor: pointer;\n",
              "      display: none;\n",
              "      fill: #1967D2;\n",
              "      height: 32px;\n",
              "      padding: 0 0 0 0;\n",
              "      width: 32px;\n",
              "    }\n",
              "\n",
              "    .colab-df-convert:hover {\n",
              "      background-color: #E2EBFA;\n",
              "      box-shadow: 0px 1px 2px rgba(60, 64, 67, 0.3), 0px 1px 3px 1px rgba(60, 64, 67, 0.15);\n",
              "      fill: #174EA6;\n",
              "    }\n",
              "\n",
              "    [theme=dark] .colab-df-convert {\n",
              "      background-color: #3B4455;\n",
              "      fill: #D2E3FC;\n",
              "    }\n",
              "\n",
              "    [theme=dark] .colab-df-convert:hover {\n",
              "      background-color: #434B5C;\n",
              "      box-shadow: 0px 1px 3px 1px rgba(0, 0, 0, 0.15);\n",
              "      filter: drop-shadow(0px 1px 2px rgba(0, 0, 0, 0.3));\n",
              "      fill: #FFFFFF;\n",
              "    }\n",
              "  </style>\n",
              "\n",
              "      <script>\n",
              "        const buttonEl =\n",
              "          document.querySelector('#df-b814d3ee-19e9-41c6-bf0d-e298f14d137a button.colab-df-convert');\n",
              "        buttonEl.style.display =\n",
              "          google.colab.kernel.accessAllowed ? 'block' : 'none';\n",
              "\n",
              "        async function convertToInteractive(key) {\n",
              "          const element = document.querySelector('#df-b814d3ee-19e9-41c6-bf0d-e298f14d137a');\n",
              "          const dataTable =\n",
              "            await google.colab.kernel.invokeFunction('convertToInteractive',\n",
              "                                                     [key], {});\n",
              "          if (!dataTable) return;\n",
              "\n",
              "          const docLinkHtml = 'Like what you see? Visit the ' +\n",
              "            '<a target=\"_blank\" href=https://colab.research.google.com/notebooks/data_table.ipynb>data table notebook</a>'\n",
              "            + ' to learn more about interactive tables.';\n",
              "          element.innerHTML = '';\n",
              "          dataTable['output_type'] = 'display_data';\n",
              "          await google.colab.output.renderOutput(dataTable, element);\n",
              "          const docLink = document.createElement('div');\n",
              "          docLink.innerHTML = docLinkHtml;\n",
              "          element.appendChild(docLink);\n",
              "        }\n",
              "      </script>\n",
              "    </div>\n",
              "  </div>\n",
              "  "
            ]
          },
          "metadata": {},
          "execution_count": 37
        }
      ],
      "source": [
        "df_w = pd.DataFrame({'col':data_words})\n",
        "df_w['col'] = df_w['col'].apply(lambda x: ' '.join(x))\n",
        "\n",
        "df_w.head()"
      ]
    },
    {
      "cell_type": "code",
      "execution_count": 38,
      "id": "fdead232",
      "metadata": {
        "id": "fdead232"
      },
      "outputs": [],
      "source": [
        "df_w.to_csv('factiva_academic_clean.csv', index=False)"
      ]
    },
    {
      "cell_type": "markdown",
      "id": "e5297c80",
      "metadata": {
        "id": "e5297c80"
      },
      "source": [
        "# Topic extraction: NMF model"
      ]
    },
    {
      "cell_type": "markdown",
      "id": "49aa0f20",
      "metadata": {
        "id": "49aa0f20"
      },
      "source": [
        "## import the libraries"
      ]
    },
    {
      "cell_type": "code",
      "execution_count": 41,
      "id": "33c2387a",
      "metadata": {
        "id": "33c2387a"
      },
      "outputs": [],
      "source": [
        "from sklearn.feature_extraction.text import TfidfVectorizer\n",
        "from sklearn.decomposition import NMF"
      ]
    },
    {
      "cell_type": "code",
      "execution_count": 42,
      "id": "58836c90",
      "metadata": {
        "id": "58836c90"
      },
      "outputs": [],
      "source": [
        "tfidf = TfidfVectorizer(max_df = 0.95, min_df = 2, stop_words = 'english')"
      ]
    },
    {
      "cell_type": "code",
      "execution_count": 43,
      "id": "8f7f20f2",
      "metadata": {
        "id": "8f7f20f2"
      },
      "outputs": [],
      "source": [
        "dtm  = tfidf.fit_transform(df_w[\"col\"])"
      ]
    },
    {
      "cell_type": "code",
      "execution_count": 44,
      "id": "62d5b7ac",
      "metadata": {
        "colab": {
          "base_uri": "https://localhost:8080/"
        },
        "id": "62d5b7ac",
        "outputId": "c5aa3bcd-aa89-4bfa-a87e-0919361e2058"
      },
      "outputs": [
        {
          "output_type": "execute_result",
          "data": {
            "text/plain": [
              "<7059x11995 sparse matrix of type '<class 'numpy.float64'>'\n",
              "\twith 503533 stored elements in Compressed Sparse Row format>"
            ]
          },
          "metadata": {},
          "execution_count": 44
        }
      ],
      "source": [
        "dtm"
      ]
    },
    {
      "cell_type": "code",
      "execution_count": 45,
      "id": "4478ad0a",
      "metadata": {
        "id": "4478ad0a"
      },
      "outputs": [],
      "source": [
        "#n_components is the number of topics that we need to choose\n",
        "nmf_model = NMF(n_components = 10, random_state = 42)"
      ]
    },
    {
      "cell_type": "code",
      "execution_count": 46,
      "id": "f9ad4320",
      "metadata": {
        "colab": {
          "base_uri": "https://localhost:8080/"
        },
        "id": "f9ad4320",
        "outputId": "715e98d1-3dab-4c29-c0f0-fb210e696bc9"
      },
      "outputs": [
        {
          "output_type": "stream",
          "name": "stderr",
          "text": [
            "/usr/local/lib/python3.8/dist-packages/sklearn/decomposition/_nmf.py:289: FutureWarning: The 'init' value, when 'init=None' and n_components is less than n_samples and n_features, will be changed from 'nndsvd' to 'nndsvda' in 1.1 (renaming of 0.26).\n",
            "  warnings.warn(\n"
          ]
        },
        {
          "output_type": "execute_result",
          "data": {
            "text/plain": [
              "NMF(n_components=10, random_state=42)"
            ]
          },
          "metadata": {},
          "execution_count": 46
        }
      ],
      "source": [
        "nmf_model.fit(dtm)"
      ]
    },
    {
      "cell_type": "code",
      "execution_count": 47,
      "id": "9353de52",
      "metadata": {
        "colab": {
          "base_uri": "https://localhost:8080/",
          "height": 91
        },
        "id": "9353de52",
        "outputId": "4bd1b830-70e7-4e3b-ccca-e79ef56bab0f"
      },
      "outputs": [
        {
          "output_type": "stream",
          "name": "stderr",
          "text": [
            "/usr/local/lib/python3.8/dist-packages/sklearn/utils/deprecation.py:87: FutureWarning: Function get_feature_names is deprecated; get_feature_names is deprecated in 1.0 and will be removed in 1.2. Please use get_feature_names_out instead.\n",
            "  warnings.warn(msg, category=FutureWarning)\n"
          ]
        },
        {
          "output_type": "execute_result",
          "data": {
            "text/plain": [
              "'coping'"
            ],
            "application/vnd.google.colaboratory.intrinsic+json": {
              "type": "string"
            }
          },
          "metadata": {},
          "execution_count": 47
        }
      ],
      "source": [
        "tfidf.get_feature_names()[2300]"
      ]
    },
    {
      "cell_type": "code",
      "execution_count": 48,
      "id": "e94fc166",
      "metadata": {
        "colab": {
          "base_uri": "https://localhost:8080/"
        },
        "id": "e94fc166",
        "outputId": "a5780f9c-6b1a-4eaa-e971-7541d11a5cf0"
      },
      "outputs": [
        {
          "output_type": "stream",
          "name": "stdout",
          "text": [
            "the top 15 words for topic # 0 \n",
            "['edge', 'challenges', 'application', 'architecture', 'objects', 'device', 'network', 'connected', 'traffic', 'cloud', 'applications', 'things', 'internet', 'devices', 'iot']\n",
            "\n",
            "\n",
            "the top 15 words for topic # 1 \n",
            "['buildings', 'demand', 'homes', 'sources', 'grid', 'storage', 'comfort', 'efficient', 'saving', 'systems', 'efficiency', 'renewable', 'consumption', 'management', 'energy']\n",
            "\n",
            "\n",
            "the top 15 words for topic # 2 \n",
            "['detection', 'daily', 'using', 'proposed', 'sensor', 'model', 'approach', 'features', 'method', 'accuracy', 'learning', 'human', 'activities', 'recognition', 'activity']\n",
            "\n",
            "\n",
            "the top 15 words for topic # 3 \n",
            "['devices', 'mobile', 'user', 'controller', 'based', 'technology', 'interface', 'automation', 'voice', 'intelligent', 'design', 'remote', 'module', 'appliances', 'control']\n",
            "\n",
            "\n",
            "the top 15 words for topic # 4 \n",
            "['systems', 'adults', 'study', 'monitoring', 'life', 'research', 'older', 'living', 'homes', 'care', 'technology', 'technologies', 'health', 'people', 'elderly']\n",
            "\n",
            "\n",
            "the top 15 words for topic # 5 \n",
            "['technology', 'monitoring', 'transmission', 'low', 'power', 'protocol', 'wsn', 'communication', 'node', 'zigbee', 'nodes', 'networks', 'sensor', 'wireless', 'network']\n",
            "\n",
            "\n",
            "the top 15 words for topic # 6 \n",
            "['approach', 'information', 'based', 'environments', 'ontology', 'model', 'architecture', 'framework', 'aware', 'environment', 'users', 'user', 'services', 'service', 'context']\n",
            "\n",
            "\n",
            "the top 15 words for topic # 7 \n",
            "['user', 'access', 'issues', 'threats', 'blockchain', 'protocol', 'attack', 'devices', 'key', 'secure', 'attacks', 'scheme', 'privacy', 'authentication', 'security']\n",
            "\n",
            "\n",
            "the top 15 words for topic # 8 \n",
            "['mining', 'collection', 'information', 'edge', 'sensor', 'real', 'time', 'computing', 'collected', 'privacy', 'sensors', 'big', 'processing', 'cloud', 'data']\n",
            "\n",
            "\n",
            "the top 15 words for topic # 9 \n",
            "['optimal', 'model', 'time', 'peak', 'optimization', 'cost', 'algorithm', 'proposed', 'appliances', 'scheduling', 'demand', 'grid', 'load', 'electricity', 'power']\n",
            "\n",
            "\n"
          ]
        }
      ],
      "source": [
        "for index, topic in enumerate(nmf_model.components_):\n",
        "    print(f\"the top 15 words for topic # {index} \")\n",
        "    print([tfidf.get_feature_names()[i] for i in topic.argsort()[-15:]])\n",
        "    print('\\n')"
      ]
    },
    {
      "cell_type": "code",
      "execution_count": 49,
      "id": "6cdd36ff",
      "metadata": {
        "id": "6cdd36ff"
      },
      "outputs": [],
      "source": [
        "topic_results = nmf_model.transform(dtm)"
      ]
    },
    {
      "cell_type": "code",
      "execution_count": 50,
      "id": "8b8e14ff",
      "metadata": {
        "colab": {
          "base_uri": "https://localhost:8080/"
        },
        "id": "8b8e14ff",
        "outputId": "32901cc0-9a2c-4a0f-853a-583e3f8d6647"
      },
      "outputs": [
        {
          "output_type": "execute_result",
          "data": {
            "text/plain": [
              "6"
            ]
          },
          "metadata": {},
          "execution_count": 50
        }
      ],
      "source": [
        "topic_results[30].argmax()"
      ]
    },
    {
      "cell_type": "code",
      "execution_count": 51,
      "id": "cbadd2e6",
      "metadata": {
        "id": "cbadd2e6"
      },
      "outputs": [],
      "source": [
        "#topic_results.argmax(axis = 1)"
      ]
    },
    {
      "cell_type": "code",
      "execution_count": 52,
      "id": "a9e28334",
      "metadata": {
        "id": "a9e28334"
      },
      "outputs": [],
      "source": [
        "df_w['Topic'] = topic_results.argmax(axis=1)"
      ]
    },
    {
      "cell_type": "code",
      "execution_count": 54,
      "id": "3ad55eaa",
      "metadata": {
        "id": "3ad55eaa"
      },
      "outputs": [],
      "source": [
        "# This is something you need to define yourself from the topocs abovi in the cell 48!\n",
        "\n",
        "mytopic_dict = {0:'ethics', 1:'language', 2:'black box', 3:'medicine', 4:'security and blockchain', 5:'autonomous', \n",
        "                6:'human rights', 7:'discrimination', 8:'trustworthiness and explainability', 9:'frameworks' }"
      ]
    },
    {
      "cell_type": "code",
      "execution_count": 55,
      "id": "b6c215c3",
      "metadata": {
        "colab": {
          "base_uri": "https://localhost:8080/",
          "height": 204
        },
        "id": "b6c215c3",
        "outputId": "07399648-0113-4c8b-f00b-82c903bf3ea5"
      },
      "outputs": [
        {
          "output_type": "execute_result",
          "data": {
            "text/plain": [
              "                                                 col  Topic\n",
              "0  recently smart home products shown signs rapid...      4\n",
              "1  paper survey smart home research definition cu...      4\n",
              "2  smart home one emerging application domains in...      3\n",
              "3  paper presents analytical review smart home ne...      5\n",
              "4  aiming problems poor layout design efficiency ...      9"
            ],
            "text/html": [
              "\n",
              "  <div id=\"df-5737b176-5900-4fa2-900d-99dfac00433a\">\n",
              "    <div class=\"colab-df-container\">\n",
              "      <div>\n",
              "<style scoped>\n",
              "    .dataframe tbody tr th:only-of-type {\n",
              "        vertical-align: middle;\n",
              "    }\n",
              "\n",
              "    .dataframe tbody tr th {\n",
              "        vertical-align: top;\n",
              "    }\n",
              "\n",
              "    .dataframe thead th {\n",
              "        text-align: right;\n",
              "    }\n",
              "</style>\n",
              "<table border=\"1\" class=\"dataframe\">\n",
              "  <thead>\n",
              "    <tr style=\"text-align: right;\">\n",
              "      <th></th>\n",
              "      <th>col</th>\n",
              "      <th>Topic</th>\n",
              "    </tr>\n",
              "  </thead>\n",
              "  <tbody>\n",
              "    <tr>\n",
              "      <th>0</th>\n",
              "      <td>recently smart home products shown signs rapid...</td>\n",
              "      <td>4</td>\n",
              "    </tr>\n",
              "    <tr>\n",
              "      <th>1</th>\n",
              "      <td>paper survey smart home research definition cu...</td>\n",
              "      <td>4</td>\n",
              "    </tr>\n",
              "    <tr>\n",
              "      <th>2</th>\n",
              "      <td>smart home one emerging application domains in...</td>\n",
              "      <td>3</td>\n",
              "    </tr>\n",
              "    <tr>\n",
              "      <th>3</th>\n",
              "      <td>paper presents analytical review smart home ne...</td>\n",
              "      <td>5</td>\n",
              "    </tr>\n",
              "    <tr>\n",
              "      <th>4</th>\n",
              "      <td>aiming problems poor layout design efficiency ...</td>\n",
              "      <td>9</td>\n",
              "    </tr>\n",
              "  </tbody>\n",
              "</table>\n",
              "</div>\n",
              "      <button class=\"colab-df-convert\" onclick=\"convertToInteractive('df-5737b176-5900-4fa2-900d-99dfac00433a')\"\n",
              "              title=\"Convert this dataframe to an interactive table.\"\n",
              "              style=\"display:none;\">\n",
              "        \n",
              "  <svg xmlns=\"http://www.w3.org/2000/svg\" height=\"24px\"viewBox=\"0 0 24 24\"\n",
              "       width=\"24px\">\n",
              "    <path d=\"M0 0h24v24H0V0z\" fill=\"none\"/>\n",
              "    <path d=\"M18.56 5.44l.94 2.06.94-2.06 2.06-.94-2.06-.94-.94-2.06-.94 2.06-2.06.94zm-11 1L8.5 8.5l.94-2.06 2.06-.94-2.06-.94L8.5 2.5l-.94 2.06-2.06.94zm10 10l.94 2.06.94-2.06 2.06-.94-2.06-.94-.94-2.06-.94 2.06-2.06.94z\"/><path d=\"M17.41 7.96l-1.37-1.37c-.4-.4-.92-.59-1.43-.59-.52 0-1.04.2-1.43.59L10.3 9.45l-7.72 7.72c-.78.78-.78 2.05 0 2.83L4 21.41c.39.39.9.59 1.41.59.51 0 1.02-.2 1.41-.59l7.78-7.78 2.81-2.81c.8-.78.8-2.07 0-2.86zM5.41 20L4 18.59l7.72-7.72 1.47 1.35L5.41 20z\"/>\n",
              "  </svg>\n",
              "      </button>\n",
              "      \n",
              "  <style>\n",
              "    .colab-df-container {\n",
              "      display:flex;\n",
              "      flex-wrap:wrap;\n",
              "      gap: 12px;\n",
              "    }\n",
              "\n",
              "    .colab-df-convert {\n",
              "      background-color: #E8F0FE;\n",
              "      border: none;\n",
              "      border-radius: 50%;\n",
              "      cursor: pointer;\n",
              "      display: none;\n",
              "      fill: #1967D2;\n",
              "      height: 32px;\n",
              "      padding: 0 0 0 0;\n",
              "      width: 32px;\n",
              "    }\n",
              "\n",
              "    .colab-df-convert:hover {\n",
              "      background-color: #E2EBFA;\n",
              "      box-shadow: 0px 1px 2px rgba(60, 64, 67, 0.3), 0px 1px 3px 1px rgba(60, 64, 67, 0.15);\n",
              "      fill: #174EA6;\n",
              "    }\n",
              "\n",
              "    [theme=dark] .colab-df-convert {\n",
              "      background-color: #3B4455;\n",
              "      fill: #D2E3FC;\n",
              "    }\n",
              "\n",
              "    [theme=dark] .colab-df-convert:hover {\n",
              "      background-color: #434B5C;\n",
              "      box-shadow: 0px 1px 3px 1px rgba(0, 0, 0, 0.15);\n",
              "      filter: drop-shadow(0px 1px 2px rgba(0, 0, 0, 0.3));\n",
              "      fill: #FFFFFF;\n",
              "    }\n",
              "  </style>\n",
              "\n",
              "      <script>\n",
              "        const buttonEl =\n",
              "          document.querySelector('#df-5737b176-5900-4fa2-900d-99dfac00433a button.colab-df-convert');\n",
              "        buttonEl.style.display =\n",
              "          google.colab.kernel.accessAllowed ? 'block' : 'none';\n",
              "\n",
              "        async function convertToInteractive(key) {\n",
              "          const element = document.querySelector('#df-5737b176-5900-4fa2-900d-99dfac00433a');\n",
              "          const dataTable =\n",
              "            await google.colab.kernel.invokeFunction('convertToInteractive',\n",
              "                                                     [key], {});\n",
              "          if (!dataTable) return;\n",
              "\n",
              "          const docLinkHtml = 'Like what you see? Visit the ' +\n",
              "            '<a target=\"_blank\" href=https://colab.research.google.com/notebooks/data_table.ipynb>data table notebook</a>'\n",
              "            + ' to learn more about interactive tables.';\n",
              "          element.innerHTML = '';\n",
              "          dataTable['output_type'] = 'display_data';\n",
              "          await google.colab.output.renderOutput(dataTable, element);\n",
              "          const docLink = document.createElement('div');\n",
              "          docLink.innerHTML = docLinkHtml;\n",
              "          element.appendChild(docLink);\n",
              "        }\n",
              "      </script>\n",
              "    </div>\n",
              "  </div>\n",
              "  "
            ]
          },
          "metadata": {},
          "execution_count": 55
        }
      ],
      "source": [
        "df_w.head()"
      ]
    },
    {
      "cell_type": "code",
      "execution_count": 56,
      "id": "d54da3be",
      "metadata": {
        "id": "d54da3be"
      },
      "outputs": [],
      "source": [
        "df_w['Topic label'] = df_w['Topic'].map(mytopic_dict)"
      ]
    },
    {
      "cell_type": "code",
      "execution_count": 57,
      "id": "eaeff29a",
      "metadata": {
        "colab": {
          "base_uri": "https://localhost:8080/",
          "height": 204
        },
        "id": "eaeff29a",
        "outputId": "e868c0be-97f5-4ea3-a25d-8c9f4cccee6b"
      },
      "outputs": [
        {
          "output_type": "execute_result",
          "data": {
            "text/plain": [
              "                                                 col  Topic  \\\n",
              "0  recently smart home products shown signs rapid...      4   \n",
              "1  paper survey smart home research definition cu...      4   \n",
              "2  smart home one emerging application domains in...      3   \n",
              "3  paper presents analytical review smart home ne...      5   \n",
              "4  aiming problems poor layout design efficiency ...      9   \n",
              "\n",
              "               Topic label  \n",
              "0  security and blockchain  \n",
              "1  security and blockchain  \n",
              "2                 medicine  \n",
              "3               autonomous  \n",
              "4               frameworks  "
            ],
            "text/html": [
              "\n",
              "  <div id=\"df-2c366b02-ad35-484b-ae0d-c15d2e4181f2\">\n",
              "    <div class=\"colab-df-container\">\n",
              "      <div>\n",
              "<style scoped>\n",
              "    .dataframe tbody tr th:only-of-type {\n",
              "        vertical-align: middle;\n",
              "    }\n",
              "\n",
              "    .dataframe tbody tr th {\n",
              "        vertical-align: top;\n",
              "    }\n",
              "\n",
              "    .dataframe thead th {\n",
              "        text-align: right;\n",
              "    }\n",
              "</style>\n",
              "<table border=\"1\" class=\"dataframe\">\n",
              "  <thead>\n",
              "    <tr style=\"text-align: right;\">\n",
              "      <th></th>\n",
              "      <th>col</th>\n",
              "      <th>Topic</th>\n",
              "      <th>Topic label</th>\n",
              "    </tr>\n",
              "  </thead>\n",
              "  <tbody>\n",
              "    <tr>\n",
              "      <th>0</th>\n",
              "      <td>recently smart home products shown signs rapid...</td>\n",
              "      <td>4</td>\n",
              "      <td>security and blockchain</td>\n",
              "    </tr>\n",
              "    <tr>\n",
              "      <th>1</th>\n",
              "      <td>paper survey smart home research definition cu...</td>\n",
              "      <td>4</td>\n",
              "      <td>security and blockchain</td>\n",
              "    </tr>\n",
              "    <tr>\n",
              "      <th>2</th>\n",
              "      <td>smart home one emerging application domains in...</td>\n",
              "      <td>3</td>\n",
              "      <td>medicine</td>\n",
              "    </tr>\n",
              "    <tr>\n",
              "      <th>3</th>\n",
              "      <td>paper presents analytical review smart home ne...</td>\n",
              "      <td>5</td>\n",
              "      <td>autonomous</td>\n",
              "    </tr>\n",
              "    <tr>\n",
              "      <th>4</th>\n",
              "      <td>aiming problems poor layout design efficiency ...</td>\n",
              "      <td>9</td>\n",
              "      <td>frameworks</td>\n",
              "    </tr>\n",
              "  </tbody>\n",
              "</table>\n",
              "</div>\n",
              "      <button class=\"colab-df-convert\" onclick=\"convertToInteractive('df-2c366b02-ad35-484b-ae0d-c15d2e4181f2')\"\n",
              "              title=\"Convert this dataframe to an interactive table.\"\n",
              "              style=\"display:none;\">\n",
              "        \n",
              "  <svg xmlns=\"http://www.w3.org/2000/svg\" height=\"24px\"viewBox=\"0 0 24 24\"\n",
              "       width=\"24px\">\n",
              "    <path d=\"M0 0h24v24H0V0z\" fill=\"none\"/>\n",
              "    <path d=\"M18.56 5.44l.94 2.06.94-2.06 2.06-.94-2.06-.94-.94-2.06-.94 2.06-2.06.94zm-11 1L8.5 8.5l.94-2.06 2.06-.94-2.06-.94L8.5 2.5l-.94 2.06-2.06.94zm10 10l.94 2.06.94-2.06 2.06-.94-2.06-.94-.94-2.06-.94 2.06-2.06.94z\"/><path d=\"M17.41 7.96l-1.37-1.37c-.4-.4-.92-.59-1.43-.59-.52 0-1.04.2-1.43.59L10.3 9.45l-7.72 7.72c-.78.78-.78 2.05 0 2.83L4 21.41c.39.39.9.59 1.41.59.51 0 1.02-.2 1.41-.59l7.78-7.78 2.81-2.81c.8-.78.8-2.07 0-2.86zM5.41 20L4 18.59l7.72-7.72 1.47 1.35L5.41 20z\"/>\n",
              "  </svg>\n",
              "      </button>\n",
              "      \n",
              "  <style>\n",
              "    .colab-df-container {\n",
              "      display:flex;\n",
              "      flex-wrap:wrap;\n",
              "      gap: 12px;\n",
              "    }\n",
              "\n",
              "    .colab-df-convert {\n",
              "      background-color: #E8F0FE;\n",
              "      border: none;\n",
              "      border-radius: 50%;\n",
              "      cursor: pointer;\n",
              "      display: none;\n",
              "      fill: #1967D2;\n",
              "      height: 32px;\n",
              "      padding: 0 0 0 0;\n",
              "      width: 32px;\n",
              "    }\n",
              "\n",
              "    .colab-df-convert:hover {\n",
              "      background-color: #E2EBFA;\n",
              "      box-shadow: 0px 1px 2px rgba(60, 64, 67, 0.3), 0px 1px 3px 1px rgba(60, 64, 67, 0.15);\n",
              "      fill: #174EA6;\n",
              "    }\n",
              "\n",
              "    [theme=dark] .colab-df-convert {\n",
              "      background-color: #3B4455;\n",
              "      fill: #D2E3FC;\n",
              "    }\n",
              "\n",
              "    [theme=dark] .colab-df-convert:hover {\n",
              "      background-color: #434B5C;\n",
              "      box-shadow: 0px 1px 3px 1px rgba(0, 0, 0, 0.15);\n",
              "      filter: drop-shadow(0px 1px 2px rgba(0, 0, 0, 0.3));\n",
              "      fill: #FFFFFF;\n",
              "    }\n",
              "  </style>\n",
              "\n",
              "      <script>\n",
              "        const buttonEl =\n",
              "          document.querySelector('#df-2c366b02-ad35-484b-ae0d-c15d2e4181f2 button.colab-df-convert');\n",
              "        buttonEl.style.display =\n",
              "          google.colab.kernel.accessAllowed ? 'block' : 'none';\n",
              "\n",
              "        async function convertToInteractive(key) {\n",
              "          const element = document.querySelector('#df-2c366b02-ad35-484b-ae0d-c15d2e4181f2');\n",
              "          const dataTable =\n",
              "            await google.colab.kernel.invokeFunction('convertToInteractive',\n",
              "                                                     [key], {});\n",
              "          if (!dataTable) return;\n",
              "\n",
              "          const docLinkHtml = 'Like what you see? Visit the ' +\n",
              "            '<a target=\"_blank\" href=https://colab.research.google.com/notebooks/data_table.ipynb>data table notebook</a>'\n",
              "            + ' to learn more about interactive tables.';\n",
              "          element.innerHTML = '';\n",
              "          dataTable['output_type'] = 'display_data';\n",
              "          await google.colab.output.renderOutput(dataTable, element);\n",
              "          const docLink = document.createElement('div');\n",
              "          docLink.innerHTML = docLinkHtml;\n",
              "          element.appendChild(docLink);\n",
              "        }\n",
              "      </script>\n",
              "    </div>\n",
              "  </div>\n",
              "  "
            ]
          },
          "metadata": {},
          "execution_count": 57
        }
      ],
      "source": [
        "df_w.head()"
      ]
    },
    {
      "cell_type": "code",
      "execution_count": 58,
      "id": "0398ed46",
      "metadata": {
        "id": "0398ed46"
      },
      "outputs": [],
      "source": [
        "# end of the part"
      ]
    }
  ],
  "metadata": {
    "kernelspec": {
      "display_name": "Python 3 (ipykernel)",
      "language": "python",
      "name": "python3"
    },
    "language_info": {
      "codemirror_mode": {
        "name": "ipython",
        "version": 3
      },
      "file_extension": ".py",
      "mimetype": "text/x-python",
      "name": "python",
      "nbconvert_exporter": "python",
      "pygments_lexer": "ipython3",
      "version": "3.7.11"
    },
    "colab": {
      "provenance": []
    }
  },
  "nbformat": 4,
  "nbformat_minor": 5
}